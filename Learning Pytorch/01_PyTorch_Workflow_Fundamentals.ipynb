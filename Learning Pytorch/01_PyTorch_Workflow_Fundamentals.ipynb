{
  "cells": [
    {
      "cell_type": "markdown",
      "source": [
        "**Evan Pradipta Hardinatha-1103204160**"
      ],
      "metadata": {
        "id": "w0mwFSErcorA"
      },
      "id": "w0mwFSErcorA"
    },
    {
      "cell_type": "markdown",
      "source": [
        "# Introduction\n",
        "Machine Learning -> Learning Past Data to Discover Patterns and use it to Predict The Future\n",
        "\n",
        "How to?\n",
        "1. Prepare and Load Data\n",
        "2. Build Model\n",
        "3. Training Model\n",
        "4. Making Prediction\n",
        "5. Evaluating a Model\n",
        "6. Saving The Model"
      ],
      "metadata": {
        "id": "5wnEIwkpVMQS"
      },
      "id": "5wnEIwkpVMQS"
    },
    {
      "cell_type": "code",
      "execution_count": 44,
      "id": "759603f8",
      "metadata": {
        "colab": {
          "base_uri": "https://localhost:8080/",
          "height": 36
        },
        "id": "759603f8",
        "outputId": "a9a5723b-ee64-4815-a2a1-5697aab0196e"
      },
      "outputs": [
        {
          "output_type": "execute_result",
          "data": {
            "text/plain": [
              "'2.1.0+cu121'"
            ],
            "application/vnd.google.colaboratory.intrinsic+json": {
              "type": "string"
            }
          },
          "metadata": {},
          "execution_count": 44
        }
      ],
      "source": [
        "#Importing The Important Library\n",
        "import torch\n",
        "from torch import nn\n",
        "import matplotlib.pyplot as plt\n",
        "\n",
        "# Check PyTorch version\n",
        "torch.__version__"
      ]
    },
    {
      "cell_type": "markdown",
      "source": [
        "# Prepare and Load Data\n",
        "a. Creating The Data"
      ],
      "metadata": {
        "id": "L9UhQ3DKVxwn"
      },
      "id": "L9UhQ3DKVxwn"
    },
    {
      "cell_type": "code",
      "execution_count": 45,
      "id": "e63bcc93",
      "metadata": {
        "colab": {
          "base_uri": "https://localhost:8080/"
        },
        "id": "e63bcc93",
        "outputId": "b3d3fd19-2398-4475-b27c-cc0c3b5d5d46"
      },
      "outputs": [
        {
          "output_type": "execute_result",
          "data": {
            "text/plain": [
              "(tensor([[0.0000],\n",
              "         [0.0200],\n",
              "         [0.0400],\n",
              "         [0.0600],\n",
              "         [0.0800],\n",
              "         [0.1000],\n",
              "         [0.1200],\n",
              "         [0.1400],\n",
              "         [0.1600],\n",
              "         [0.1800]]),\n",
              " tensor([[0.4000],\n",
              "         [0.4120],\n",
              "         [0.4240],\n",
              "         [0.4360],\n",
              "         [0.4480],\n",
              "         [0.4600],\n",
              "         [0.4720],\n",
              "         [0.4840],\n",
              "         [0.4960],\n",
              "         [0.5080]]))"
            ]
          },
          "metadata": {},
          "execution_count": 45
        }
      ],
      "source": [
        "# Create *known* parameters\n",
        "weight = 0.6\n",
        "bias = 0.4\n",
        "\n",
        "# Create data\n",
        "start = 0\n",
        "end = 1\n",
        "step = 0.02\n",
        "X = torch.arange(start, end, step).unsqueeze(dim=1)\n",
        "y = weight * X + bias\n",
        "\n",
        "X[:10], y[:10]"
      ]
    },
    {
      "cell_type": "markdown",
      "source": [
        "b. Splitting the data\n",
        "Use Train-Test-Split, 80% train 20% test"
      ],
      "metadata": {
        "id": "_miJGkU8WGwA"
      },
      "id": "_miJGkU8WGwA"
    },
    {
      "cell_type": "code",
      "execution_count": 46,
      "id": "e7840ed7",
      "metadata": {
        "colab": {
          "base_uri": "https://localhost:8080/"
        },
        "id": "e7840ed7",
        "outputId": "f06f1525-52ef-4f2d-fde6-04cc3cdae0a0"
      },
      "outputs": [
        {
          "output_type": "execute_result",
          "data": {
            "text/plain": [
              "(40, 40, 10, 10)"
            ]
          },
          "metadata": {},
          "execution_count": 46
        }
      ],
      "source": [
        "# Create train/test split\n",
        "train_split = int(0.8 * len(X))\n",
        "X_train, y_train = X[:train_split], y[:train_split]\n",
        "X_test, y_test = X[train_split:], y[train_split:]\n",
        "\n",
        "len(X_train), len(y_train), len(X_test), len(y_test)"
      ]
    },
    {
      "cell_type": "markdown",
      "source": [
        "c. Plotting Data Before The Prediction"
      ],
      "metadata": {
        "id": "7rJEc42gXQxt"
      },
      "id": "7rJEc42gXQxt"
    },
    {
      "cell_type": "code",
      "execution_count": 47,
      "id": "1065d595",
      "metadata": {
        "id": "1065d595"
      },
      "outputs": [],
      "source": [
        "def plot_predictions(train_data=X_train,\n",
        "                     train_labels=y_train,\n",
        "                     test_data=X_test,\n",
        "                     test_labels=y_test,\n",
        "                     predictions=None):\n",
        "  \"\"\"\n",
        "  Plots training data, test data and compares predictions.\n",
        "  \"\"\"\n",
        "  plt.figure(figsize=(10, 7))\n",
        "\n",
        "  # Plot training data in blue\n",
        "  plt.scatter(train_data, train_labels, c=\"b\", s=4, label=\"Training data\")\n",
        "\n",
        "  # Plot test data in green\n",
        "  plt.scatter(test_data, test_labels, c=\"g\", s=4, label=\"Testing data\")\n",
        "\n",
        "  if predictions is not None:\n",
        "    # Plot the predictions in red (predictions were made on the test data)\n",
        "    plt.scatter(test_data, predictions, c=\"r\", s=4, label=\"Predictions\")\n",
        "\n",
        "  # Show the legend\n",
        "  plt.legend(prop={\"size\": 14});"
      ]
    },
    {
      "cell_type": "code",
      "execution_count": 48,
      "id": "5fb25492",
      "metadata": {
        "colab": {
          "base_uri": "https://localhost:8080/",
          "height": 599
        },
        "id": "5fb25492",
        "outputId": "b033bd6c-0301-4034-9d85-aa722df4abf8"
      },
      "outputs": [
        {
          "output_type": "display_data",
          "data": {
            "text/plain": [
              "<Figure size 1000x700 with 1 Axes>"
            ],
            "image/png": "[encoded data removed]"
          },
          "metadata": {}
        }
      ],
      "source": [
        "plot_predictions();"
      ]
    },
    {
      "cell_type": "markdown",
      "source": [
        "# Building The Model"
      ],
      "metadata": {
        "id": "KkiSgCXiZqJd"
      },
      "id": "KkiSgCXiZqJd"
    },
    {
      "cell_type": "code",
      "execution_count": 49,
      "id": "8e9d1f90",
      "metadata": {
        "id": "8e9d1f90"
      },
      "outputs": [],
      "source": [
        "# Create a Linear Regression model class\n",
        "class LinearRegressionModel(nn.Module):\n",
        "    def __init__(self):\n",
        "        super().__init__()\n",
        "        self.weights = nn.Parameter(torch.randn(1, dtype=torch.float), requires_grad=True)\n",
        "        self.bias = nn.Parameter(torch.randn(1,dtype=torch.float),  requires_grad=True)\n",
        "\n",
        "    def forward(self, x: torch.Tensor) -> torch.Tensor:\n",
        "        return self.weights * x + self.bias"
      ]
    },
    {
      "cell_type": "code",
      "execution_count": 50,
      "id": "55e970f6",
      "metadata": {
        "colab": {
          "base_uri": "https://localhost:8080/"
        },
        "id": "55e970f6",
        "outputId": "995b6434-5779-4d54-909d-d0acc574beb7"
      },
      "outputs": [
        {
          "output_type": "execute_result",
          "data": {
            "text/plain": [
              "[Parameter containing:\n",
              " tensor([0.3367], requires_grad=True),\n",
              " Parameter containing:\n",
              " tensor([0.1288], requires_grad=True)]"
            ]
          },
          "metadata": {},
          "execution_count": 50
        }
      ],
      "source": [
        "# Set manual seed\n",
        "torch.manual_seed(42)\n",
        "\n",
        "# Create an instance of the model\n",
        "model_0 = LinearRegressionModel()\n",
        "\n",
        "# Check the nn.Parameter(s)\n",
        "list(model_0.parameters())"
      ]
    },
    {
      "cell_type": "code",
      "execution_count": 51,
      "id": "fed1329d",
      "metadata": {
        "colab": {
          "base_uri": "https://localhost:8080/"
        },
        "id": "fed1329d",
        "outputId": "eb25f4e1-b128-41ce-b0d2-1b1b0dc32e78"
      },
      "outputs": [
        {
          "output_type": "execute_result",
          "data": {
            "text/plain": [
              "OrderedDict([('weights', tensor([0.3367])), ('bias', tensor([0.1288]))])"
            ]
          },
          "metadata": {},
          "execution_count": 51
        }
      ],
      "source": [
        "# List named parameters\n",
        "model_0.state_dict()"
      ]
    },
    {
      "cell_type": "code",
      "execution_count": 52,
      "id": "e4295295",
      "metadata": {
        "id": "e4295295"
      },
      "outputs": [],
      "source": [
        "# Make predictions with model\n",
        "with torch.inference_mode():\n",
        "    y_preds = model_0(X_test)"
      ]
    },
    {
      "cell_type": "code",
      "execution_count": 53,
      "id": "d3ab644b",
      "metadata": {
        "colab": {
          "base_uri": "https://localhost:8080/"
        },
        "id": "d3ab644b",
        "outputId": "4a512497-461d-473a-d8b8-f867c3cc24f4"
      },
      "outputs": [
        {
          "output_type": "stream",
          "name": "stdout",
          "text": [
            "Number of testing samples: 10\n",
            "Number of predictions made: 10\n",
            "Predicted values:\n",
            "tensor([[0.3982],\n",
            "        [0.4049],\n",
            "        [0.4116],\n",
            "        [0.4184],\n",
            "        [0.4251],\n",
            "        [0.4318],\n",
            "        [0.4386],\n",
            "        [0.4453],\n",
            "        [0.4520],\n",
            "        [0.4588]])\n"
          ]
        }
      ],
      "source": [
        "# Check the predictions\n",
        "print(f\"Number of testing samples: {len(X_test)}\")\n",
        "print(f\"Number of predictions made: {len(y_preds)}\")\n",
        "print(f\"Predicted values:\\n{y_preds}\")"
      ]
    },
    {
      "cell_type": "code",
      "execution_count": 54,
      "id": "e15f7f6e",
      "metadata": {
        "colab": {
          "base_uri": "https://localhost:8080/",
          "height": 599
        },
        "id": "e15f7f6e",
        "outputId": "495854e9-386a-4602-d99e-57273beb3a9f"
      },
      "outputs": [
        {
          "output_type": "display_data",
          "data": {
            "text/plain": [
              "<Figure size 1000x700 with 1 Axes>"
            ],
            "image/png": "[encoded data removed]"
          },
          "metadata": {}
        }
      ],
      "source": [
        "plot_predictions(predictions=y_preds)"
      ]
    },
    {
      "cell_type": "code",
      "execution_count": 55,
      "id": "a5b29441",
      "metadata": {
        "colab": {
          "base_uri": "https://localhost:8080/"
        },
        "id": "a5b29441",
        "outputId": "6984cdde-0bf0-4ef5-8d04-8c9f922fdf66"
      },
      "outputs": [
        {
          "output_type": "execute_result",
          "data": {
            "text/plain": [
              "tensor([[0.4818],\n",
              "        [0.4871],\n",
              "        [0.4924],\n",
              "        [0.4976],\n",
              "        [0.5029],\n",
              "        [0.5082],\n",
              "        [0.5134],\n",
              "        [0.5187],\n",
              "        [0.5240],\n",
              "        [0.5292]])"
            ]
          },
          "metadata": {},
          "execution_count": 55
        }
      ],
      "source": [
        "y_test - y_preds"
      ]
    },
    {
      "cell_type": "markdown",
      "source": [
        "3"
      ],
      "metadata": {
        "id": "igOJwjDdZjhC"
      },
      "id": "igOJwjDdZjhC"
    },
    {
      "cell_type": "markdown",
      "source": [
        "# Train Model"
      ],
      "metadata": {
        "id": "6niy1hq5aCGS"
      },
      "id": "6niy1hq5aCGS"
    },
    {
      "cell_type": "markdown",
      "source": [
        "a. Loss Function"
      ],
      "metadata": {
        "id": "lLjUqSIYaTrB"
      },
      "id": "lLjUqSIYaTrB"
    },
    {
      "cell_type": "code",
      "execution_count": 56,
      "id": "aa0cb94a",
      "metadata": {
        "id": "aa0cb94a"
      },
      "outputs": [],
      "source": [
        "# Create the loss function\n",
        "loss_fn = nn.L1Loss() # MAE\n",
        "\n",
        "# Create the optimizer\n",
        "optimizer = torch.optim.SGD(params=model_0.parameters(), lr=0.01) # learning rate (how much the optimizer should change parameters at each step, higher=more (less stable), lower=less (might take a long time))"
      ]
    },
    {
      "cell_type": "markdown",
      "source": [
        "b. Optimization Loop in PyTorch\n",
        "Training Loop and Testing Loop"
      ],
      "metadata": {
        "id": "azWXUvGVaUuS"
      },
      "id": "azWXUvGVaUuS"
    },
    {
      "cell_type": "code",
      "execution_count": 57,
      "id": "9a72f8a4",
      "metadata": {
        "colab": {
          "base_uri": "https://localhost:8080/"
        },
        "id": "9a72f8a4",
        "outputId": "44465232-20b1-468f-a657-be62a907570e"
      },
      "outputs": [
        {
          "output_type": "stream",
          "name": "stdout",
          "text": [
            "Epoch: 0 | MAE Train Loss: 0.37388134002685547 | MAE Test Loss: 0.4920651316642761 \n",
            "Epoch: 10 | MAE Train Loss: 0.2586713433265686 | MAE Test Loss: 0.3573552668094635 \n",
            "Epoch: 20 | MAE Train Loss: 0.1434614360332489 | MAE Test Loss: 0.2226453274488449 \n",
            "Epoch: 30 | MAE Train Loss: 0.03848728537559509 | MAE Test Loss: 0.09741605818271637 \n",
            "Epoch: 40 | MAE Train Loss: 0.023863982409238815 | MAE Test Loss: 0.05760536342859268 \n",
            "Epoch: 50 | MAE Train Loss: 0.02031884901225567 | MAE Test Loss: 0.04659420996904373 \n",
            "Epoch: 60 | MAE Train Loss: 0.01688215509057045 | MAE Test Loss: 0.039008546620607376 \n",
            "Epoch: 70 | MAE Train Loss: 0.013453716412186623 | MAE Test Loss: 0.030736004933714867 \n",
            "Epoch: 80 | MAE Train Loss: 0.010015235282480717 | MAE Test Loss: 0.02246345952153206 \n",
            "Epoch: 90 | MAE Train Loss: 0.0065802233293652534 | MAE Test Loss: 0.01487780176103115 \n"
          ]
        }
      ],
      "source": [
        "torch.manual_seed(42)\n",
        "\n",
        "# Set the number of epochs (how many times the model will pass over the training data)\n",
        "epochs = 100\n",
        "\n",
        "# Create empty loss lists to track values\n",
        "train_loss_values = []\n",
        "test_loss_values = []\n",
        "epoch_count = []\n",
        "\n",
        "for epoch in range(epochs):\n",
        "    ### Training\n",
        "\n",
        "    # Put model in training mode (this is the default state of a model)\n",
        "    model_0.train()\n",
        "\n",
        "    # 1. Forward pass on train data using the forward() method inside\n",
        "    y_pred = model_0(X_train)\n",
        "    # print(y_pred)\n",
        "\n",
        "    # 2. Calculate the loss (how different are our models predictions to the ground truth)\n",
        "    loss = loss_fn(y_pred, y_train)\n",
        "\n",
        "    # 3. Zero grad of the optimizer\n",
        "    optimizer.zero_grad()\n",
        "\n",
        "    # 4. Loss backwards\n",
        "    loss.backward()\n",
        "\n",
        "    # 5. Progress the optimizer\n",
        "    optimizer.step()\n",
        "\n",
        "    ### Testing\n",
        "\n",
        "    # Put the model in evaluation mode\n",
        "    model_0.eval()\n",
        "\n",
        "    with torch.inference_mode():\n",
        "      # 1. Forward pass on test data\n",
        "      test_pred = model_0(X_test)\n",
        "\n",
        "      # 2. Caculate loss on test data\n",
        "      test_loss = loss_fn(test_pred, y_test.type(torch.float)) # predictions come in torch.float datatype, so comparisons need to be done with tensors of the same type\n",
        "\n",
        "      # Print out what's happening\n",
        "      if epoch % 10 == 0:\n",
        "            epoch_count.append(epoch)\n",
        "            train_loss_values.append(loss.detach().numpy())\n",
        "            test_loss_values.append(test_loss.detach().numpy())\n",
        "            print(f\"Epoch: {epoch} | MAE Train Loss: {loss} | MAE Test Loss: {test_loss} \")"
      ]
    },
    {
      "cell_type": "markdown",
      "source": [
        "Checking the loss after looping"
      ],
      "metadata": {
        "id": "qVKK9fzqbCpe"
      },
      "id": "qVKK9fzqbCpe"
    },
    {
      "cell_type": "code",
      "execution_count": 58,
      "id": "b2fdcd45",
      "metadata": {
        "colab": {
          "base_uri": "https://localhost:8080/",
          "height": 472
        },
        "id": "b2fdcd45",
        "outputId": "d0a552a5-9beb-492a-b3f1-af568fcc0935"
      },
      "outputs": [
        {
          "output_type": "display_data",
          "data": {
            "text/plain": [
              "<Figure size 640x480 with 1 Axes>"
            ],
            "image/png": "[encoded data removed]"
          },
          "metadata": {}
        }
      ],
      "source": [
        "# Plot the loss curves\n",
        "plt.plot(epoch_count, train_loss_values, label=\"Train loss\")\n",
        "plt.plot(epoch_count, test_loss_values, label=\"Test loss\")\n",
        "plt.title(\"Training and test loss curves\")\n",
        "plt.ylabel(\"Loss\")\n",
        "plt.xlabel(\"Epochs\")\n",
        "plt.legend();"
      ]
    },
    {
      "cell_type": "markdown",
      "source": [
        "Why Did The Loss Break Down?\n",
        "We can inspect with state dict"
      ],
      "metadata": {
        "id": "XBwrJwRWbKPZ"
      },
      "id": "XBwrJwRWbKPZ"
    },
    {
      "cell_type": "code",
      "execution_count": 59,
      "id": "c800b8d7",
      "metadata": {
        "colab": {
          "base_uri": "https://localhost:8080/"
        },
        "id": "c800b8d7",
        "outputId": "e7005a49-5450-4496-9a43-da283163340b"
      },
      "outputs": [
        {
          "output_type": "stream",
          "name": "stdout",
          "text": [
            "The model learned the following values for weights and bias:\n",
            "OrderedDict([('weights', tensor([0.5843])), ('bias', tensor([0.4063]))])\n",
            "\n",
            "And the original values for weights and bias are:\n",
            "weights: 0.6, bias: 0.4\n"
          ]
        }
      ],
      "source": [
        "# Find our model's learned parameters\n",
        "print(\"The model learned the following values for weights and bias:\")\n",
        "print(model_0.state_dict())\n",
        "print(\"\\nAnd the original values for weights and bias are:\")\n",
        "print(f\"weights: {weight}, bias: {bias}\")"
      ]
    },
    {
      "cell_type": "markdown",
      "source": [
        "# Predicting with test data"
      ],
      "metadata": {
        "id": "qfM3sDM5bbaA"
      },
      "id": "qfM3sDM5bbaA"
    },
    {
      "cell_type": "code",
      "execution_count": 60,
      "id": "8204e445",
      "metadata": {
        "colab": {
          "base_uri": "https://localhost:8080/"
        },
        "id": "8204e445",
        "outputId": "6dec6516-609b-42d1-a6f2-7d2b7f6cffc8"
      },
      "outputs": [
        {
          "output_type": "execute_result",
          "data": {
            "text/plain": [
              "tensor([[0.8737],\n",
              "        [0.8854],\n",
              "        [0.8971],\n",
              "        [0.9088],\n",
              "        [0.9205],\n",
              "        [0.9321],\n",
              "        [0.9438],\n",
              "        [0.9555],\n",
              "        [0.9672],\n",
              "        [0.9789]])"
            ]
          },
          "metadata": {},
          "execution_count": 60
        }
      ],
      "source": [
        "model_0.eval()\n",
        "with torch.inference_mode():\n",
        "  y_preds = model_0(X_test)\n",
        "y_preds"
      ]
    },
    {
      "cell_type": "code",
      "execution_count": 61,
      "id": "d07a3cd1",
      "metadata": {
        "colab": {
          "base_uri": "https://localhost:8080/",
          "height": 599
        },
        "id": "d07a3cd1",
        "outputId": "22f24cb2-e7e4-4001-865f-209545a9d66e"
      },
      "outputs": [
        {
          "output_type": "display_data",
          "data": {
            "text/plain": [
              "<Figure size 1000x700 with 1 Axes>"
            ],
            "image/png": "[encoded data removed]"
          },
          "metadata": {}
        }
      ],
      "source": [
        "plot_predictions(predictions=y_preds)"
      ]
    },
    {
      "cell_type": "markdown",
      "source": [
        "# Saving Model"
      ],
      "metadata": {
        "id": "ro4BrBBibk2j"
      },
      "id": "ro4BrBBibk2j"
    },
    {
      "cell_type": "markdown",
      "source": [
        "a. Creating the model saving"
      ],
      "metadata": {
        "id": "0wj8dEgWb7Ub"
      },
      "id": "0wj8dEgWb7Ub"
    },
    {
      "cell_type": "code",
      "execution_count": 62,
      "id": "f143c832",
      "metadata": {
        "colab": {
          "base_uri": "https://localhost:8080/"
        },
        "id": "f143c832",
        "outputId": "e2e1bf49-c7f4-4270-dd22-f96522faf909"
      },
      "outputs": [
        {
          "output_type": "stream",
          "name": "stdout",
          "text": [
            "Saving model to: models/01_pytorch_workflow_model_0.pth\n"
          ]
        }
      ],
      "source": [
        "from pathlib import Path\n",
        "\n",
        "# 1. Create models directory\n",
        "MODEL_PATH = Path(\"models\")\n",
        "MODEL_PATH.mkdir(parents=True, exist_ok=True)\n",
        "\n",
        "# 2. Create model save path\n",
        "MODEL_NAME = \"01_pytorch_workflow_model_0.pth\"\n",
        "MODEL_SAVE_PATH = MODEL_PATH / MODEL_NAME\n",
        "\n",
        "# 3. Save the model state dict\n",
        "print(f\"Saving model to: {MODEL_SAVE_PATH}\")\n",
        "torch.save(obj=model_0.state_dict(), # only saving the state_dict() only saves the models learned parameters\n",
        "           f=MODEL_SAVE_PATH)"
      ]
    },
    {
      "cell_type": "markdown",
      "source": [
        "b. Check the file"
      ],
      "metadata": {
        "id": "BPyKrK5EcC5c"
      },
      "id": "BPyKrK5EcC5c"
    },
    {
      "cell_type": "code",
      "execution_count": 63,
      "id": "e165965f",
      "metadata": {
        "colab": {
          "base_uri": "https://localhost:8080/"
        },
        "id": "e165965f",
        "outputId": "a2395c9e-09f3-45f7-ad3e-5d1f6528e73c"
      },
      "outputs": [
        {
          "output_type": "stream",
          "name": "stdout",
          "text": [
            "-rw-r--r-- 1 root root 1680 Jan  4 17:07 models/01_pytorch_workflow_model_0.pth\n"
          ]
        }
      ],
      "source": [
        "# Check the saved file path\n",
        "!ls -l models/01_pytorch_workflow_model_0.pth"
      ]
    },
    {
      "cell_type": "markdown",
      "source": [
        "c. Loading the model"
      ],
      "metadata": {
        "id": "gUjInYjGcHkp"
      },
      "id": "gUjInYjGcHkp"
    },
    {
      "cell_type": "code",
      "execution_count": 64,
      "id": "4a2772ef",
      "metadata": {
        "colab": {
          "base_uri": "https://localhost:8080/"
        },
        "id": "4a2772ef",
        "outputId": "6811c73c-a1b2-47ad-ad9b-48b4cf5f91cf"
      },
      "outputs": [
        {
          "output_type": "execute_result",
          "data": {
            "text/plain": [
              "<All keys matched successfully>"
            ]
          },
          "metadata": {},
          "execution_count": 64
        }
      ],
      "source": [
        "# Instantiate a new instance of our model (this will be instantiated with random weights)\n",
        "loaded_model_0 = LinearRegressionModel()\n",
        "\n",
        "# Load the state_dict of our saved model (this will update the new instance of our model with trained weights)\n",
        "loaded_model_0.load_state_dict(torch.load(f=MODEL_SAVE_PATH))"
      ]
    },
    {
      "cell_type": "markdown",
      "source": [
        "d. Checking if The Loaded Model is The Same"
      ],
      "metadata": {
        "id": "ugvZ5_ArcLWP"
      },
      "id": "ugvZ5_ArcLWP"
    },
    {
      "cell_type": "code",
      "execution_count": 65,
      "id": "bf5ac530",
      "metadata": {
        "id": "bf5ac530"
      },
      "outputs": [],
      "source": [
        "# 1. Put the loaded model into evaluation mode\n",
        "loaded_model_0.eval()\n",
        "\n",
        "# 2. Use the inference mode context manager to make predictions\n",
        "with torch.inference_mode():\n",
        "    loaded_model_preds = loaded_model_0(X_test) # perform a forward pass on the test data with the loaded model"
      ]
    },
    {
      "cell_type": "code",
      "execution_count": 66,
      "id": "6b02c663",
      "metadata": {
        "colab": {
          "base_uri": "https://localhost:8080/"
        },
        "id": "6b02c663",
        "outputId": "595a0da0-b853-4d9a-b494-00f044943202"
      },
      "outputs": [
        {
          "output_type": "execute_result",
          "data": {
            "text/plain": [
              "tensor([[True],\n",
              "        [True],\n",
              "        [True],\n",
              "        [True],\n",
              "        [True],\n",
              "        [True],\n",
              "        [True],\n",
              "        [True],\n",
              "        [True],\n",
              "        [True]])"
            ]
          },
          "metadata": {},
          "execution_count": 66
        }
      ],
      "source": [
        "# Compare previous model predictions with loaded model predictions (these should be the same)\n",
        "y_preds == loaded_model_preds"
      ]
    }
  ],
  "metadata": {
    "colab": {
      "provenance": []
    },
    "language_info": {
      "name": "python"
    },
    "kernelspec": {
      "name": "python3",
      "display_name": "Python 3"
    }
  },
  "nbformat": 4,
  "nbformat_minor": 5
}