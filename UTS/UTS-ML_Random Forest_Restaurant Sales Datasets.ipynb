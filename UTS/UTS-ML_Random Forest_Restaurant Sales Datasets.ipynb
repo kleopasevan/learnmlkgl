{
 "cells": [
  {
   "cell_type": "markdown",
   "metadata": {},
   "source": [
    "Evan Pradipta Hardinatha-1103204160\n",
    "Overview\n",
    "Dataset yang digunakan adalah dataset, Restaurant Sales Datasets\n",
    "Restaurant Sales Datasets adalah dataset yang saya dapatkan dari CV Balibul untuk dianalisa dan digunakan untuk membuat model Prediksi\n",
    "Model yang akan digunakan adalah model Random Forest Regressor dari library sklearn."
   ]
  },
  {
   "cell_type": "markdown",
   "metadata": {},
   "source": [
    "RANDOM FOREST REGRESSOR\n",
    "Random Forest Regressor adalah algoritma Machine Learning yang termasuk dalam kategori Ensemble Learning dan digunakan untuk memecahkan masalah regresi. Ini adalah variasi dari algoritma Random Forest, yang pada dasarnya merupakan kumpulan dari beberapa pohon keputusan (Decision Trees). Random Forest Regressor dibangun dengan menggabungkan prediksi dari beberapa pohon keputusan untuk menghasilkan prediksi regresi yang lebih akurat dan stabil."
   ]
  },
  {
   "cell_type": "markdown",
   "metadata": {},
   "source": [
    "STEPS\n",
    "1. EDA\n",
    "2. Visualisasi\n",
    "3. Training\n",
    "4. Evaluating\n",
    "5. New Data"
   ]
  },
  {
   "cell_type": "markdown",
   "metadata": {},
   "source": [
    "Step By Step:"
   ]
  },
  {
   "cell_type": "code",
   "execution_count": 177,
   "metadata": {},
   "outputs": [],
   "source": [
    "import pandas as pd\n",
    "#library pandas untuk mengatur data\n",
    "import matplotlib.pyplot as plt\n",
    "#library matplotlib plot untuk melakukan visualisasi\n",
    "import seaborn as sns\n",
    "#library seaborn untuk visualisasi\n",
    "from ipywidgets import interact\n",
    "import ipywidgets as widgets\n",
    "#ipywidgets untuk membuat interactive plot"
   ]
  },
  {
   "cell_type": "markdown",
   "metadata": {},
   "source": [
    "EDA\n",
    "\n",
    "EDA adalah singkatan dari \"Exploratory Data Analysis\" atau Analisis Data Eksploratif dalam bahasa Indonesia. Ini adalah suatu pendekatan untuk menganalisis dataset dan merumuskan hipotesis berdasarkan pemahaman awal terhadap data. Tujuan utama dari EDA adalah untuk memahami karakteristik utama dari data, mengidentifikasi pola yang menarik, dan menentukan langkah-langkah berikutnya dalam analisis.\n",
    "\n",
    "Beberapa kegiatan umum dalam EDA melibatkan:\n",
    "\n",
    "Ringkasan Data: Melihat ringkasan statistik, seperti mean, median, dan deviasi standar, untuk setiap variabel.\n",
    "\n",
    "Pemahaman Distribusi: Menganalisis distribusi variabel-variabel utama dan mengidentifikasi apakah ada kecenderungan, pola, atau anomali.\n",
    "\n",
    "Penanganan Data Hilang: Memeriksa dan menangani data yang hilang atau kosong.\n",
    "\n",
    "Analisis Korelasi: Mengeksplorasi korelasi antar variabel untuk memahami hubungan di antara mereka."
   ]
  },
  {
   "cell_type": "code",
   "execution_count": 178,
   "metadata": {},
   "outputs": [],
   "source": [
    "#reading dataset\n",
    "file_path = 'datasets/Restaurant Sales Datasets.xlsx'\n",
    "df = pd.read_excel(file_path)"
   ]
  },
  {
   "cell_type": "code",
   "execution_count": 179,
   "metadata": {},
   "outputs": [
    {
     "name": "stdout",
     "output_type": "stream",
     "text": [
      "<class 'pandas.core.frame.DataFrame'>\n",
      "RangeIndex: 226347 entries, 0 to 226346\n",
      "Data columns (total 17 columns):\n",
      " #   Column             Non-Null Count   Dtype  \n",
      "---  ------             --------------   -----  \n",
      " 0   No. Struk          226347 non-null  object \n",
      " 1   Tanggal            226347 non-null  object \n",
      " 2   Jam                226347 non-null  object \n",
      " 3   Nama Outlet        226347 non-null  object \n",
      " 4   Nama Kasir         226347 non-null  object \n",
      " 5   Produk             226345 non-null  object \n",
      " 6   Jumlah Produk      226347 non-null  int64  \n",
      " 7   Jumlah Dibatalkan  226347 non-null  int64  \n",
      " 8   Harga Per Produk   226347 non-null  int64  \n",
      " 9   Subtotal           226347 non-null  int64  \n",
      " 10  Tipe Harga         226347 non-null  object \n",
      " 11  Diskon Produk      226347 non-null  int64  \n",
      " 12  Diskon Transaksi   226347 non-null  int64  \n",
      " 13  Pajak              198778 non-null  float64\n",
      " 14  Total              198778 non-null  float64\n",
      " 15  Status             198778 non-null  object \n",
      " 16  Metode Pembayaran  198778 non-null  object \n",
      "dtypes: float64(2), int64(6), object(9)\n",
      "memory usage: 29.4+ MB\n"
     ]
    }
   ],
   "source": [
    "df.info()"
   ]
  },
  {
   "cell_type": "markdown",
   "metadata": {},
   "source": [
    "Disini terlihat kita memiliki 16 kolom dengan data yang merupakan pecahan item pada masing-masing struk, dengan total 226347 data."
   ]
  },
  {
   "cell_type": "code",
   "execution_count": 180,
   "metadata": {},
   "outputs": [
    {
     "data": {
      "text/html": [
       "<div>\n",
       "<style scoped>\n",
       "    .dataframe tbody tr th:only-of-type {\n",
       "        vertical-align: middle;\n",
       "    }\n",
       "\n",
       "    .dataframe tbody tr th {\n",
       "        vertical-align: top;\n",
       "    }\n",
       "\n",
       "    .dataframe thead th {\n",
       "        text-align: right;\n",
       "    }\n",
       "</style>\n",
       "<table border=\"1\" class=\"dataframe\">\n",
       "  <thead>\n",
       "    <tr style=\"text-align: right;\">\n",
       "      <th></th>\n",
       "      <th>No. Struk</th>\n",
       "      <th>Tanggal</th>\n",
       "      <th>Jam</th>\n",
       "      <th>Nama Outlet</th>\n",
       "      <th>Nama Kasir</th>\n",
       "      <th>Produk</th>\n",
       "      <th>Jumlah Produk</th>\n",
       "      <th>Jumlah Dibatalkan</th>\n",
       "      <th>Harga Per Produk</th>\n",
       "      <th>Subtotal</th>\n",
       "      <th>Tipe Harga</th>\n",
       "      <th>Diskon Produk</th>\n",
       "      <th>Diskon Transaksi</th>\n",
       "      <th>Pajak</th>\n",
       "      <th>Total</th>\n",
       "      <th>Status</th>\n",
       "      <th>Metode Pembayaran</th>\n",
       "    </tr>\n",
       "  </thead>\n",
       "  <tbody>\n",
       "    <tr>\n",
       "      <th>0</th>\n",
       "      <td>59614QIA</td>\n",
       "      <td>23-10-2023</td>\n",
       "      <td>14:09:32</td>\n",
       "      <td>Wates</td>\n",
       "      <td>Balibul Wates</td>\n",
       "      <td>Sate Tegal 10 Campur, Reguler</td>\n",
       "      <td>1</td>\n",
       "      <td>0</td>\n",
       "      <td>60000</td>\n",
       "      <td>60000</td>\n",
       "      <td>Normal</td>\n",
       "      <td>0</td>\n",
       "      <td>0</td>\n",
       "      <td>0.0</td>\n",
       "      <td>60000.0</td>\n",
       "      <td>Transaksi</td>\n",
       "      <td>DEBIT</td>\n",
       "    </tr>\n",
       "    <tr>\n",
       "      <th>1</th>\n",
       "      <td>59614QIA</td>\n",
       "      <td>23-10-2023</td>\n",
       "      <td>14:09:32</td>\n",
       "      <td>Wates</td>\n",
       "      <td>Balibul Wates</td>\n",
       "      <td>Tengkleng Masak/Segar, Reguler</td>\n",
       "      <td>1</td>\n",
       "      <td>0</td>\n",
       "      <td>35000</td>\n",
       "      <td>35000</td>\n",
       "      <td>Normal</td>\n",
       "      <td>0</td>\n",
       "      <td>0</td>\n",
       "      <td>0.0</td>\n",
       "      <td>35000.0</td>\n",
       "      <td>Transaksi</td>\n",
       "      <td>DEBIT</td>\n",
       "    </tr>\n",
       "    <tr>\n",
       "      <th>2</th>\n",
       "      <td>59614QIA</td>\n",
       "      <td>23-10-2023</td>\n",
       "      <td>14:09:32</td>\n",
       "      <td>Wates</td>\n",
       "      <td>Balibul Wates</td>\n",
       "      <td>Gule/Gule Gongso/Goreng, Reguler</td>\n",
       "      <td>1</td>\n",
       "      <td>0</td>\n",
       "      <td>25000</td>\n",
       "      <td>25000</td>\n",
       "      <td>Normal</td>\n",
       "      <td>0</td>\n",
       "      <td>0</td>\n",
       "      <td>0.0</td>\n",
       "      <td>25000.0</td>\n",
       "      <td>Transaksi</td>\n",
       "      <td>DEBIT</td>\n",
       "    </tr>\n",
       "    <tr>\n",
       "      <th>3</th>\n",
       "      <td>59614QIA</td>\n",
       "      <td>23-10-2023</td>\n",
       "      <td>14:09:32</td>\n",
       "      <td>Wates</td>\n",
       "      <td>Balibul Wates</td>\n",
       "      <td>Teh Panas/Es, Reguler</td>\n",
       "      <td>2</td>\n",
       "      <td>0</td>\n",
       "      <td>5000</td>\n",
       "      <td>10000</td>\n",
       "      <td>Normal</td>\n",
       "      <td>0</td>\n",
       "      <td>0</td>\n",
       "      <td>0.0</td>\n",
       "      <td>10000.0</td>\n",
       "      <td>Transaksi</td>\n",
       "      <td>DEBIT</td>\n",
       "    </tr>\n",
       "    <tr>\n",
       "      <th>4</th>\n",
       "      <td>59614QIA</td>\n",
       "      <td>23-10-2023</td>\n",
       "      <td>14:09:32</td>\n",
       "      <td>Wates</td>\n",
       "      <td>Balibul Wates</td>\n",
       "      <td>Nasi Putih, Reguler</td>\n",
       "      <td>2</td>\n",
       "      <td>0</td>\n",
       "      <td>7000</td>\n",
       "      <td>14000</td>\n",
       "      <td>Normal</td>\n",
       "      <td>0</td>\n",
       "      <td>0</td>\n",
       "      <td>0.0</td>\n",
       "      <td>14000.0</td>\n",
       "      <td>Transaksi</td>\n",
       "      <td>DEBIT</td>\n",
       "    </tr>\n",
       "  </tbody>\n",
       "</table>\n",
       "</div>"
      ],
      "text/plain": [
       "  No. Struk     Tanggal       Jam Nama Outlet     Nama Kasir  \\\n",
       "0  59614QIA  23-10-2023  14:09:32       Wates  Balibul Wates   \n",
       "1  59614QIA  23-10-2023  14:09:32       Wates  Balibul Wates   \n",
       "2  59614QIA  23-10-2023  14:09:32       Wates  Balibul Wates   \n",
       "3  59614QIA  23-10-2023  14:09:32       Wates  Balibul Wates   \n",
       "4  59614QIA  23-10-2023  14:09:32       Wates  Balibul Wates   \n",
       "\n",
       "                             Produk  Jumlah Produk  Jumlah Dibatalkan  \\\n",
       "0     Sate Tegal 10 Campur, Reguler              1                  0   \n",
       "1    Tengkleng Masak/Segar, Reguler              1                  0   \n",
       "2  Gule/Gule Gongso/Goreng, Reguler              1                  0   \n",
       "3             Teh Panas/Es, Reguler              2                  0   \n",
       "4               Nasi Putih, Reguler              2                  0   \n",
       "\n",
       "   Harga Per Produk  Subtotal Tipe Harga  Diskon Produk  Diskon Transaksi  \\\n",
       "0             60000     60000     Normal              0                 0   \n",
       "1             35000     35000     Normal              0                 0   \n",
       "2             25000     25000     Normal              0                 0   \n",
       "3              5000     10000     Normal              0                 0   \n",
       "4              7000     14000     Normal              0                 0   \n",
       "\n",
       "   Pajak    Total     Status Metode Pembayaran  \n",
       "0    0.0  60000.0  Transaksi             DEBIT  \n",
       "1    0.0  35000.0  Transaksi             DEBIT  \n",
       "2    0.0  25000.0  Transaksi             DEBIT  \n",
       "3    0.0  10000.0  Transaksi             DEBIT  \n",
       "4    0.0  14000.0  Transaksi             DEBIT  "
      ]
     },
     "execution_count": 180,
     "metadata": {},
     "output_type": "execute_result"
    }
   ],
   "source": [
    "df.head()"
   ]
  },
  {
   "cell_type": "markdown",
   "metadata": {},
   "source": [
    "Karena Data yang ada merupakan data tiap item dalam sebuah transaksi, kita akan mengumpulkan data ke tiap struk menggunakan pandas, berikut adalah cara yang saya lakukan."
   ]
  },
  {
   "cell_type": "code",
   "execution_count": 181,
   "metadata": {},
   "outputs": [
    {
     "name": "stderr",
     "output_type": "stream",
     "text": [
      "C:\\Users\\kleop\\AppData\\Local\\Temp\\ipykernel_29684\\4030270761.py:2: UserWarning: Parsing dates in %d-%m-%Y format when dayfirst=False (the default) was specified. Pass `dayfirst=True` or specify a format to silence this warning.\n",
      "  df['Tanggal'] = pd.to_datetime(df['Tanggal'])\n"
     ]
    }
   ],
   "source": [
    "# Konversi kolom Tanggal ke format DateTime\n",
    "df['Tanggal'] = pd.to_datetime(df['Tanggal'])\n",
    "# Konversi kolom Jam ke format DateTime (Hanya jam dan menit)\n",
    "df['Jam'] = pd.to_datetime(df['Jam'], format='%H:%M:%S').dt.time\n",
    "# Gabungkan kolom 'Tanggal' dan 'Jam' ke dalam satu kolom DateTime\n",
    "df['Tanggal'] = pd.to_datetime(df['Tanggal'].astype(str) + ' ' + df['Jam'].astype(str))\n",
    "# Definisikan fungsi untuk mendapatkan shift\n",
    "def get_shift(time):\n",
    "    if 8 <= time.hour < 14:\n",
    "        return 1\n",
    "    elif 14 <= time.hour < 22:\n",
    "        return 2\n",
    "    else:\n",
    "        return 0  # Shift 0 untuk transaksi di luar jam kerja\n",
    "# Terapkan fungsi shift ke DataFrame\n",
    "df['Shift'] = df['Tanggal'].apply(get_shift)\n",
    "# Buat DataFrame baru dengan data transaksi setiap shift\n",
    "shift_data = df.groupby(['Tanggal', 'Shift']).agg({'No. Struk': 'nunique', 'Subtotal': 'sum'}).reset_index()\n",
    "shift_data.columns = ['Tanggal', 'Shift', 'Jumlah Transaksi', 'Subtotal']"
   ]
  },
  {
   "cell_type": "code",
   "execution_count": 182,
   "metadata": {},
   "outputs": [
    {
     "name": "stdout",
     "output_type": "stream",
     "text": [
      "<class 'pandas.core.frame.DataFrame'>\n",
      "RangeIndex: 41170 entries, 0 to 41169\n",
      "Data columns (total 4 columns):\n",
      " #   Column            Non-Null Count  Dtype         \n",
      "---  ------            --------------  -----         \n",
      " 0   Tanggal           41170 non-null  datetime64[ns]\n",
      " 1   Shift             41170 non-null  int64         \n",
      " 2   Jumlah Transaksi  41170 non-null  int64         \n",
      " 3   Subtotal          41170 non-null  int64         \n",
      "dtypes: datetime64[ns](1), int64(3)\n",
      "memory usage: 1.3 MB\n"
     ]
    }
   ],
   "source": [
    "shift_data.info()"
   ]
  },
  {
   "cell_type": "markdown",
   "metadata": {},
   "source": [
    "Disini, setelah membuat data kita menjadi data subtotal dan transaksi setiap struk, kita mendapat 41170 jumlah data"
   ]
  },
  {
   "cell_type": "code",
   "execution_count": 183,
   "metadata": {},
   "outputs": [
    {
     "data": {
      "text/html": [
       "<div>\n",
       "<style scoped>\n",
       "    .dataframe tbody tr th:only-of-type {\n",
       "        vertical-align: middle;\n",
       "    }\n",
       "\n",
       "    .dataframe tbody tr th {\n",
       "        vertical-align: top;\n",
       "    }\n",
       "\n",
       "    .dataframe thead th {\n",
       "        text-align: right;\n",
       "    }\n",
       "</style>\n",
       "<table border=\"1\" class=\"dataframe\">\n",
       "  <thead>\n",
       "    <tr style=\"text-align: right;\">\n",
       "      <th></th>\n",
       "      <th>Tanggal</th>\n",
       "      <th>Shift</th>\n",
       "      <th>Jumlah Transaksi</th>\n",
       "      <th>Subtotal</th>\n",
       "    </tr>\n",
       "  </thead>\n",
       "  <tbody>\n",
       "    <tr>\n",
       "      <th>0</th>\n",
       "      <td>2021-10-30 11:22:10</td>\n",
       "      <td>1</td>\n",
       "      <td>1</td>\n",
       "      <td>35000</td>\n",
       "    </tr>\n",
       "    <tr>\n",
       "      <th>1</th>\n",
       "      <td>2021-10-30 11:59:29</td>\n",
       "      <td>1</td>\n",
       "      <td>1</td>\n",
       "      <td>106000</td>\n",
       "    </tr>\n",
       "    <tr>\n",
       "      <th>2</th>\n",
       "      <td>2021-10-30 12:08:29</td>\n",
       "      <td>1</td>\n",
       "      <td>1</td>\n",
       "      <td>174000</td>\n",
       "    </tr>\n",
       "    <tr>\n",
       "      <th>3</th>\n",
       "      <td>2021-10-30 12:25:43</td>\n",
       "      <td>1</td>\n",
       "      <td>1</td>\n",
       "      <td>123000</td>\n",
       "    </tr>\n",
       "    <tr>\n",
       "      <th>4</th>\n",
       "      <td>2021-10-30 12:31:46</td>\n",
       "      <td>1</td>\n",
       "      <td>1</td>\n",
       "      <td>170000</td>\n",
       "    </tr>\n",
       "  </tbody>\n",
       "</table>\n",
       "</div>"
      ],
      "text/plain": [
       "              Tanggal  Shift  Jumlah Transaksi  Subtotal\n",
       "0 2021-10-30 11:22:10      1                 1     35000\n",
       "1 2021-10-30 11:59:29      1                 1    106000\n",
       "2 2021-10-30 12:08:29      1                 1    174000\n",
       "3 2021-10-30 12:25:43      1                 1    123000\n",
       "4 2021-10-30 12:31:46      1                 1    170000"
      ]
     },
     "execution_count": 183,
     "metadata": {},
     "output_type": "execute_result"
    }
   ],
   "source": [
    "shift_data.head()"
   ]
  },
  {
   "cell_type": "code",
   "execution_count": 184,
   "metadata": {},
   "outputs": [],
   "source": [
    "# Tanggal hanya mengandung tanggal\n",
    "shift_data[\"Tanggal\"] = pd.to_datetime(shift_data[\"Tanggal\"])\n",
    "shift_data[\"Tanggal\"] = shift_data[\"Tanggal\"].dt.date\n",
    "# Sum \"Subtotal\" berdasarkan \"Tanggal\" dan \"Shift\"\n",
    "shift_data = shift_data.groupby([\"Tanggal\", \"Shift\"]).agg({\"Subtotal\": \"sum\", \"Jumlah Transaksi\": \"sum\"}).reset_index()\n",
    "#Konversi ke datetime\n",
    "shift_data[\"Tanggal\"] = pd.to_datetime(shift_data[\"Tanggal\"])\n",
    "#menambahkan kolom hari\n",
    "shift_data[\"Hari\"] = shift_data['Tanggal'].dt.strftime('%A')\n",
    "# Tanggal hanya mengandung tanggal\n",
    "shift_data[\"Tanggal\"] = shift_data[\"Tanggal\"].dt.date"
   ]
  },
  {
   "cell_type": "code",
   "execution_count": 185,
   "metadata": {},
   "outputs": [
    {
     "data": {
      "text/html": [
       "<div>\n",
       "<style scoped>\n",
       "    .dataframe tbody tr th:only-of-type {\n",
       "        vertical-align: middle;\n",
       "    }\n",
       "\n",
       "    .dataframe tbody tr th {\n",
       "        vertical-align: top;\n",
       "    }\n",
       "\n",
       "    .dataframe thead th {\n",
       "        text-align: right;\n",
       "    }\n",
       "</style>\n",
       "<table border=\"1\" class=\"dataframe\">\n",
       "  <thead>\n",
       "    <tr style=\"text-align: right;\">\n",
       "      <th></th>\n",
       "      <th>Shift</th>\n",
       "      <th>Subtotal</th>\n",
       "      <th>Jumlah Transaksi</th>\n",
       "    </tr>\n",
       "  </thead>\n",
       "  <tbody>\n",
       "    <tr>\n",
       "      <th>count</th>\n",
       "      <td>1432.000000</td>\n",
       "      <td>1.432000e+03</td>\n",
       "      <td>1432.000000</td>\n",
       "    </tr>\n",
       "    <tr>\n",
       "      <th>mean</th>\n",
       "      <td>1.500000</td>\n",
       "      <td>5.169032e+06</td>\n",
       "      <td>28.749302</td>\n",
       "    </tr>\n",
       "    <tr>\n",
       "      <th>std</th>\n",
       "      <td>0.500175</td>\n",
       "      <td>2.794747e+06</td>\n",
       "      <td>13.477081</td>\n",
       "    </tr>\n",
       "    <tr>\n",
       "      <th>min</th>\n",
       "      <td>1.000000</td>\n",
       "      <td>3.070000e+05</td>\n",
       "      <td>2.000000</td>\n",
       "    </tr>\n",
       "    <tr>\n",
       "      <th>25%</th>\n",
       "      <td>1.000000</td>\n",
       "      <td>3.090750e+06</td>\n",
       "      <td>18.000000</td>\n",
       "    </tr>\n",
       "    <tr>\n",
       "      <th>50%</th>\n",
       "      <td>1.500000</td>\n",
       "      <td>4.599250e+06</td>\n",
       "      <td>26.000000</td>\n",
       "    </tr>\n",
       "    <tr>\n",
       "      <th>75%</th>\n",
       "      <td>2.000000</td>\n",
       "      <td>6.865250e+06</td>\n",
       "      <td>38.000000</td>\n",
       "    </tr>\n",
       "    <tr>\n",
       "      <th>max</th>\n",
       "      <td>2.000000</td>\n",
       "      <td>2.457000e+07</td>\n",
       "      <td>88.000000</td>\n",
       "    </tr>\n",
       "  </tbody>\n",
       "</table>\n",
       "</div>"
      ],
      "text/plain": [
       "             Shift      Subtotal  Jumlah Transaksi\n",
       "count  1432.000000  1.432000e+03       1432.000000\n",
       "mean      1.500000  5.169032e+06         28.749302\n",
       "std       0.500175  2.794747e+06         13.477081\n",
       "min       1.000000  3.070000e+05          2.000000\n",
       "25%       1.000000  3.090750e+06         18.000000\n",
       "50%       1.500000  4.599250e+06         26.000000\n",
       "75%       2.000000  6.865250e+06         38.000000\n",
       "max       2.000000  2.457000e+07         88.000000"
      ]
     },
     "execution_count": 185,
     "metadata": {},
     "output_type": "execute_result"
    }
   ],
   "source": [
    "#mengurangi data kurang\n",
    "shift_data = shift_data[shift_data['Jumlah Transaksi'] > 0]\n",
    "shift_data = shift_data[shift_data['Shift'] > 0]\n",
    "shift_data.describe()"
   ]
  },
  {
   "cell_type": "markdown",
   "metadata": {},
   "source": [
    "Disini, setelah membuat data kita menjadi data menjadi data shift dan data harian, kita dapat melihat analisis sederhana dari data kita setiap hari dan shiftnya."
   ]
  },
  {
   "cell_type": "code",
   "execution_count": 186,
   "metadata": {},
   "outputs": [
    {
     "data": {
      "text/html": [
       "<div>\n",
       "<style scoped>\n",
       "    .dataframe tbody tr th:only-of-type {\n",
       "        vertical-align: middle;\n",
       "    }\n",
       "\n",
       "    .dataframe tbody tr th {\n",
       "        vertical-align: top;\n",
       "    }\n",
       "\n",
       "    .dataframe thead th {\n",
       "        text-align: right;\n",
       "    }\n",
       "</style>\n",
       "<table border=\"1\" class=\"dataframe\">\n",
       "  <thead>\n",
       "    <tr style=\"text-align: right;\">\n",
       "      <th></th>\n",
       "      <th>Tanggal</th>\n",
       "      <th>Shift</th>\n",
       "      <th>Subtotal</th>\n",
       "      <th>Jumlah Transaksi</th>\n",
       "      <th>Hari</th>\n",
       "    </tr>\n",
       "  </thead>\n",
       "  <tbody>\n",
       "    <tr>\n",
       "      <th>0</th>\n",
       "      <td>2021-10-30</td>\n",
       "      <td>1</td>\n",
       "      <td>3332000</td>\n",
       "      <td>22</td>\n",
       "      <td>Saturday</td>\n",
       "    </tr>\n",
       "    <tr>\n",
       "      <th>1</th>\n",
       "      <td>2021-10-30</td>\n",
       "      <td>2</td>\n",
       "      <td>7966000</td>\n",
       "      <td>44</td>\n",
       "      <td>Saturday</td>\n",
       "    </tr>\n",
       "    <tr>\n",
       "      <th>2</th>\n",
       "      <td>2021-10-31</td>\n",
       "      <td>1</td>\n",
       "      <td>3037000</td>\n",
       "      <td>16</td>\n",
       "      <td>Sunday</td>\n",
       "    </tr>\n",
       "    <tr>\n",
       "      <th>3</th>\n",
       "      <td>2021-10-31</td>\n",
       "      <td>2</td>\n",
       "      <td>8073000</td>\n",
       "      <td>46</td>\n",
       "      <td>Sunday</td>\n",
       "    </tr>\n",
       "    <tr>\n",
       "      <th>4</th>\n",
       "      <td>2021-11-01</td>\n",
       "      <td>1</td>\n",
       "      <td>2476000</td>\n",
       "      <td>15</td>\n",
       "      <td>Monday</td>\n",
       "    </tr>\n",
       "  </tbody>\n",
       "</table>\n",
       "</div>"
      ],
      "text/plain": [
       "      Tanggal  Shift  Subtotal  Jumlah Transaksi      Hari\n",
       "0  2021-10-30      1   3332000                22  Saturday\n",
       "1  2021-10-30      2   7966000                44  Saturday\n",
       "2  2021-10-31      1   3037000                16    Sunday\n",
       "3  2021-10-31      2   8073000                46    Sunday\n",
       "4  2021-11-01      1   2476000                15    Monday"
      ]
     },
     "execution_count": 186,
     "metadata": {},
     "output_type": "execute_result"
    }
   ],
   "source": [
    "shift_data.head()"
   ]
  },
  {
   "cell_type": "markdown",
   "metadata": {},
   "source": [
    "DATA VISUALIZATION"
   ]
  },
  {
   "cell_type": "markdown",
   "metadata": {},
   "source": [
    "PADA VISUALISASI, SAYA MEMBUAT HISTOGRAM PERBANDINGAN SHIFT 1 dan 2, dengan menggunakan IPYWIDGETS untuk analisis Subtotal pada masing-masing Shift."
   ]
  },
  {
   "cell_type": "code",
   "execution_count": 187,
   "metadata": {},
   "outputs": [
    {
     "data": {
      "application/vnd.jupyter.widget-view+json": {
       "model_id": "2dc0db71e586482e9e76d4794bdc1470",
       "version_major": 2,
       "version_minor": 0
      },
      "text/plain": [
       "interactive(children=(IntSlider(value=10, description='Bin Width', max=50, min=1), Dropdown(description='Shift…"
      ]
     },
     "metadata": {},
     "output_type": "display_data"
    },
    {
     "data": {
      "text/plain": [
       "<Figure size 640x480 with 0 Axes>"
      ]
     },
     "metadata": {},
     "output_type": "display_data"
    }
   ],
   "source": [
    "# Mengubah kolom 'Tanggal' menjadi tipe datetime\n",
    "shift_data['Tanggal'] = pd.to_datetime(shift_data['Tanggal'])\n",
    "# Fungsi untuk memplot distribusi Subtotal dalam jutaan berdasarkan Shift\n",
    "def plot_histogram(bin_width, shift):\n",
    "    fig, ax = plt.subplots(figsize=(8, 6))\n",
    "    # Filter data berdasarkan Shift\n",
    "    filtered_data = shift_data[shift_data['Shift'] == shift].copy()  # Membuat salinan data\n",
    "    # Mengkonversi Subtotal ke jutaan\n",
    "    filtered_data['Subtotal (Jutaan)'] = filtered_data['Subtotal'] / 1e6\n",
    "    # Plot distribusi Subtotal dalam jutaan\n",
    "    sns.histplot(filtered_data['Subtotal (Jutaan)'], kde=True, color='skyblue', ax=ax, bins=bin_width)\n",
    "    ax.set_title(f'Distribusi Subtotal dalam Jutaan (Shift {shift}, Bin Width: {bin_width})', size=12)\n",
    "    ax.set_xlabel('Subtotal (Jutaan)', size=10)\n",
    "    ax.set_ylabel('Frequency', size=10)\n",
    "\n",
    "# Membuat slider untuk mengatur bin width\n",
    "bin_width_slider = widgets.IntSlider(value=10, min=1, max=50, step=1, description='Bin Width')\n",
    "\n",
    "# Membuat dropdown untuk memilih Shift\n",
    "shift_dropdown = widgets.Dropdown(\n",
    "    options=[1, 2],\n",
    "    value=1,\n",
    "    description='Shift',\n",
    ")\n",
    "\n",
    "# Menghubungkan slider dan dropdown dengan fungsi plot_histogram\n",
    "interact(plot_histogram, bin_width=bin_width_slider, shift=shift_dropdown)\n",
    "\n",
    "plt.tight_layout()\n",
    "plt.show()"
   ]
  },
  {
   "cell_type": "markdown",
   "metadata": {},
   "source": [
    "Dari Visualisasi diatas, terlihat data subtotal shift 2 lebih tinggi dari shift 1, sehingga shift mempengaruhi Subtotal dan dapat dijadikan features."
   ]
  },
  {
   "cell_type": "markdown",
   "metadata": {},
   "source": [
    "Berikutnya, saya akan mencoba analisis pada hari menggunakan 2 plot, yaitu histogram dan swarm plot."
   ]
  },
  {
   "cell_type": "markdown",
   "metadata": {},
   "source": [
    "Prompt GPT\n",
    "Saya memerlukan kode Python menggunakan pandas, matplotlib, dan seaborn untuk mengubah kolom 'Tanggal' dari DataFrame menjadi tipe datetime. Selain itu, saya ingin fungsi bernama plot_histogram yang dapat memfilter data berdasarkan hari dan shift, lalu memplot distribusi kolom 'Subtotal' menggunakan histogram. Harap sertakan dua dropdown menggunakan ipywidgets, satu untuk memilih hari ('Monday', 'Tuesday', 'Wednesday', 'Thursday', 'Friday', 'Saturday', 'Sunday') dan satu untuk memilih shift (1 atau 2). Pastikan untuk menghubungkan kedua dropdown dengan fungsi plot_histogram sehingga memungkinkan interaktifitas dalam menampilkan histogram berdasarkan pilihan hari dan shift. Terakhir, tampilkan plot yang dihasilkan dengan menggunakan matplotlib dan seaborn."
   ]
  },
  {
   "cell_type": "code",
   "execution_count": 188,
   "metadata": {},
   "outputs": [
    {
     "data": {
      "application/vnd.jupyter.widget-view+json": {
       "model_id": "a86d58799d5540e59708608d24f6c24a",
       "version_major": 2,
       "version_minor": 0
      },
      "text/plain": [
       "interactive(children=(Dropdown(description='Hari', options=('Monday', 'Tuesday', 'Wednesday', 'Thursday', 'Fri…"
      ]
     },
     "metadata": {},
     "output_type": "display_data"
    },
    {
     "data": {
      "text/plain": [
       "<Figure size 640x480 with 0 Axes>"
      ]
     },
     "metadata": {},
     "output_type": "display_data"
    }
   ],
   "source": [
    "# Mengubah kolom 'Tanggal' menjadi tipe datetime\n",
    "shift_data['Tanggal'] = pd.to_datetime(shift_data['Tanggal'])\n",
    "# Fungsi untuk memplot distribusi Subtotal berdasarkan hari\n",
    "def plot_histogram(day, shift):\n",
    "    filtered_data = shift_data[(shift_data['Hari'] == day) & (shift_data['Shift'] == shift)]#filter data shift\n",
    "    fig, ax = plt.subplots(figsize=(8, 6))\n",
    "    sns.histplot(filtered_data['Subtotal'], kde=True, color='skyblue', ax=ax, bins=10)\n",
    "    ax.set_title(f'Distribusi Subtotal ({day}, Shift {shift})', size=12)\n",
    "    ax.set_xlabel('Subtotal', size=10)\n",
    "    ax.set_ylabel('Frequency', size=10)\n",
    "\n",
    "# Membuat dropdown untuk memilih hari\n",
    "day_dropdown = widgets.Dropdown(\n",
    "    options=['Monday', 'Tuesday', 'Wednesday', 'Thursday', 'Friday', 'Saturday', 'Sunday'],\n",
    "    value='Monday',\n",
    "    description='Hari',\n",
    ")\n",
    "\n",
    "# Membuat dropdown untuk memilih shift\n",
    "shift_dropdown = widgets.Dropdown(\n",
    "    options=[1, 2],\n",
    "    value=1,\n",
    "    description='Shift',\n",
    ")\n",
    "\n",
    "# Menghubungkan dropdown dengan fungsi plot_histogram\n",
    "interact(plot_histogram, day=day_dropdown, shift=shift_dropdown)\n",
    "\n",
    "plt.tight_layout()\n",
    "plt.show()"
   ]
  },
  {
   "cell_type": "markdown",
   "metadata": {},
   "source": [
    "Prompt\n",
    "Saya membutuhkan kode Python menggunakan matplotlib dan seaborn untuk membuat swarm plot dengan ukuran (10, 6). Swarm plot ini harus menggambarkan hubungan antara 'Shift' dan 'Subtotal' dengan pewarnaan berdasarkan 'Hari'. Pastikan untuk menyertakan judul plot ('Swarm Plot Shift & Hari terhadap Subtotal') dan label sumbu x dan y ('Shift' dan 'Subtotal'). Sertakan legenda dengan judul 'Hari'. Silakan tampilkan swarm plot yang dihasilkan."
   ]
  },
  {
   "cell_type": "code",
   "execution_count": 189,
   "metadata": {},
   "outputs": [
    {
     "name": "stderr",
     "output_type": "stream",
     "text": [
      "c:\\Users\\kleop\\Documents\\GitHub\\learnmlkgl\\.venv\\lib\\site-packages\\seaborn\\categorical.py:3370: UserWarning: 26.8% of the points cannot be placed; you may want to decrease the size of the markers or use stripplot.\n",
      "  warnings.warn(msg, UserWarning)\n",
      "c:\\Users\\kleop\\Documents\\GitHub\\learnmlkgl\\.venv\\lib\\site-packages\\seaborn\\categorical.py:3370: UserWarning: 6.1% of the points cannot be placed; you may want to decrease the size of the markers or use stripplot.\n",
      "  warnings.warn(msg, UserWarning)\n"
     ]
    },
    {
     "data": {
      "image/png": "[encoded data removed]",
      "text/plain": [
       "<Figure size 1000x600 with 1 Axes>"
      ]
     },
     "metadata": {},
     "output_type": "display_data"
    }
   ],
   "source": [
    "#size dari plot\n",
    "plt.figure(figsize=(10, 6))\n",
    "#swarmplot dengan sns\n",
    "sns.swarmplot(x='Shift', y='Subtotal', hue='Hari', data=shift_data, palette='husl')\n",
    "plt.title('Swarm Plot Shift & Hari terhadap Subtotal', fontsize=16)\n",
    "plt.xlabel('Shift', fontsize=14)\n",
    "plt.ylabel('Subtotal', fontsize=14)\n",
    "plt.legend(title='Hari')\n",
    "plt.show()"
   ]
  },
  {
   "cell_type": "markdown",
   "metadata": {},
   "source": [
    "Dari Plot Histogram dan swarm plot, terlihat hari berpengaruh pada subtotal, pada weekend, terlihat penyebaran subtotal yang berada pada level tinggi (Pendapatan tinggi), sehingga hari dapat menjadi feature."
   ]
  },
  {
   "cell_type": "markdown",
   "metadata": {},
   "source": [
    "TRAINING"
   ]
  },
  {
   "cell_type": "markdown",
   "metadata": {},
   "source": [
    "Data PreProcessing\n",
    "\n",
    "Data preprocessing adalah langkah kritis dalam proses machine learning yang melibatkan manipulasi, transformasi, dan pembersihan data mentah untuk mempersiapkannya sebelum digunakan untuk melatih model machine learning. Tujuannya adalah untuk mengoptimalkan kualitas dan relevansi data sehingga model dapat menghasilkan hasil yang lebih baik."
   ]
  },
  {
   "cell_type": "code",
   "execution_count": 190,
   "metadata": {},
   "outputs": [],
   "source": [
    "#importing sklearn untuk training dan evaluasi\n",
    "from sklearn.model_selection import train_test_split\n",
    "from sklearn.ensemble import RandomForestRegressor\n",
    "from sklearn.metrics import mean_absolute_error\n",
    "from sklearn.metrics import mean_squared_error, r2_score"
   ]
  },
  {
   "cell_type": "code",
   "execution_count": 191,
   "metadata": {},
   "outputs": [],
   "source": [
    "#Karena kita akan menggunakan RF Regressor, maka variabel kita harus angka, maka disini kita mengganti variabel hari kedalam bentuk angka\\\n",
    "# Ubah kolom \"Tanggal\" menjadi tipe data datetime\n",
    "shift_data['Tanggal'] = pd.to_datetime(shift_data['Tanggal'])\n",
    "# Menggunakan Tanggal untuk mengganti kolom hari menjadi angka\n",
    "shift_data['Hari'] = shift_data['Tanggal'].dt.dayofweek"
   ]
  },
  {
   "cell_type": "code",
   "execution_count": 192,
   "metadata": {},
   "outputs": [],
   "source": [
    "#Data yang berpengaruh pada subtotal adalah Hari dan Shift (Pada Visualisasi dan EDA tadi), masukkan ke kolom features untuk random forest\n",
    "features = shift_data[['Shift', 'Hari']]\n",
    "# Pisahkan data menjadi set pelatihan (train) dan set pengujian (test)\n",
    "X_train, X_test, y_train, y_test = train_test_split(features, shift_data['Subtotal'], test_size=0.2, random_state=42)"
   ]
  },
  {
   "cell_type": "code",
   "execution_count": 193,
   "metadata": {},
   "outputs": [
    {
     "data": {
      "text/html": [
       "<style>#sk-container-id-16 {color: black;}#sk-container-id-16 pre{padding: 0;}#sk-container-id-16 div.sk-toggleable {background-color: white;}#sk-container-id-16 label.sk-toggleable__label {cursor: pointer;display: block;width: 100%;margin-bottom: 0;padding: 0.3em;box-sizing: border-box;text-align: center;}#sk-container-id-16 label.sk-toggleable__label-arrow:before {content: \"▸\";float: left;margin-right: 0.25em;color: #696969;}#sk-container-id-16 label.sk-toggleable__label-arrow:hover:before {color: black;}#sk-container-id-16 div.sk-estimator:hover label.sk-toggleable__label-arrow:before {color: black;}#sk-container-id-16 div.sk-toggleable__content {max-height: 0;max-width: 0;overflow: hidden;text-align: left;background-color: #f0f8ff;}#sk-container-id-16 div.sk-toggleable__content pre {margin: 0.2em;color: black;border-radius: 0.25em;background-color: #f0f8ff;}#sk-container-id-16 input.sk-toggleable__control:checked~div.sk-toggleable__content {max-height: 200px;max-width: 100%;overflow: auto;}#sk-container-id-16 input.sk-toggleable__control:checked~label.sk-toggleable__label-arrow:before {content: \"▾\";}#sk-container-id-16 div.sk-estimator input.sk-toggleable__control:checked~label.sk-toggleable__label {background-color: #d4ebff;}#sk-container-id-16 div.sk-label input.sk-toggleable__control:checked~label.sk-toggleable__label {background-color: #d4ebff;}#sk-container-id-16 input.sk-hidden--visually {border: 0;clip: rect(1px 1px 1px 1px);clip: rect(1px, 1px, 1px, 1px);height: 1px;margin: -1px;overflow: hidden;padding: 0;position: absolute;width: 1px;}#sk-container-id-16 div.sk-estimator {font-family: monospace;background-color: #f0f8ff;border: 1px dotted black;border-radius: 0.25em;box-sizing: border-box;margin-bottom: 0.5em;}#sk-container-id-16 div.sk-estimator:hover {background-color: #d4ebff;}#sk-container-id-16 div.sk-parallel-item::after {content: \"\";width: 100%;border-bottom: 1px solid gray;flex-grow: 1;}#sk-container-id-16 div.sk-label:hover label.sk-toggleable__label {background-color: #d4ebff;}#sk-container-id-16 div.sk-serial::before {content: \"\";position: absolute;border-left: 1px solid gray;box-sizing: border-box;top: 0;bottom: 0;left: 50%;z-index: 0;}#sk-container-id-16 div.sk-serial {display: flex;flex-direction: column;align-items: center;background-color: white;padding-right: 0.2em;padding-left: 0.2em;position: relative;}#sk-container-id-16 div.sk-item {position: relative;z-index: 1;}#sk-container-id-16 div.sk-parallel {display: flex;align-items: stretch;justify-content: center;background-color: white;position: relative;}#sk-container-id-16 div.sk-item::before, #sk-container-id-16 div.sk-parallel-item::before {content: \"\";position: absolute;border-left: 1px solid gray;box-sizing: border-box;top: 0;bottom: 0;left: 50%;z-index: -1;}#sk-container-id-16 div.sk-parallel-item {display: flex;flex-direction: column;z-index: 1;position: relative;background-color: white;}#sk-container-id-16 div.sk-parallel-item:first-child::after {align-self: flex-end;width: 50%;}#sk-container-id-16 div.sk-parallel-item:last-child::after {align-self: flex-start;width: 50%;}#sk-container-id-16 div.sk-parallel-item:only-child::after {width: 0;}#sk-container-id-16 div.sk-dashed-wrapped {border: 1px dashed gray;margin: 0 0.4em 0.5em 0.4em;box-sizing: border-box;padding-bottom: 0.4em;background-color: white;}#sk-container-id-16 div.sk-label label {font-family: monospace;font-weight: bold;display: inline-block;line-height: 1.2em;}#sk-container-id-16 div.sk-label-container {text-align: center;}#sk-container-id-16 div.sk-container {/* jupyter's `normalize.less` sets `[hidden] { display: none; }` but bootstrap.min.css set `[hidden] { display: none !important; }` so we also need the `!important` here to be able to override the default hidden behavior on the sphinx rendered scikit-learn.org. See: https://github.com/scikit-learn/scikit-learn/issues/21755 */display: inline-block !important;position: relative;}#sk-container-id-16 div.sk-text-repr-fallback {display: none;}</style><div id=\"sk-container-id-16\" class=\"sk-top-container\"><div class=\"sk-text-repr-fallback\"><pre>RandomForestRegressor(random_state=42)</pre><b>In a Jupyter environment, please rerun this cell to show the HTML representation or trust the notebook. <br />On GitHub, the HTML representation is unable to render, please try loading this page with nbviewer.org.</b></div><div class=\"sk-container\" hidden><div class=\"sk-item\"><div class=\"sk-estimator sk-toggleable\"><input class=\"sk-toggleable__control sk-hidden--visually\" id=\"sk-estimator-id-16\" type=\"checkbox\" checked><label for=\"sk-estimator-id-16\" class=\"sk-toggleable__label sk-toggleable__label-arrow\">RandomForestRegressor</label><div class=\"sk-toggleable__content\"><pre>RandomForestRegressor(random_state=42)</pre></div></div></div></div></div>"
      ],
      "text/plain": [
       "RandomForestRegressor(random_state=42)"
      ]
     },
     "execution_count": 193,
     "metadata": {},
     "output_type": "execute_result"
    }
   ],
   "source": [
    "# Buat dan latih model Random Forest Regressor\n",
    "model = RandomForestRegressor(n_estimators=100, random_state=42)\n",
    "#model membuat 100 decision tree dengan random state 42\n",
    "model.fit(X_train, y_train)\n",
    "#Training model dengan variabel split X Train dan Y Train"
   ]
  },
  {
   "cell_type": "code",
   "execution_count": 194,
   "metadata": {},
   "outputs": [
    {
     "name": "stdout",
     "output_type": "stream",
     "text": [
      "Mean Squared Error: 3588711381582.1025\n",
      "Mean Absolute Error: 1326214.2504209597\n",
      "R-squared: 0.5160000179816058\n"
     ]
    }
   ],
   "source": [
    "# Evaluasi performa model pada set pengujian\n",
    "y_pred = model.predict(X_test)\n",
    "#hitung mse, r2, dan mae\n",
    "mse = mean_squared_error(y_test, y_pred)\n",
    "r2 = r2_score(y_test, y_pred)\n",
    "mae = mean_absolute_error(y_test, y_pred)\n",
    "print(f'Mean Squared Error: {mse}')\n",
    "print(f'Mean Absolute Error: {mae}')\n",
    "print(f'R-squared: {r2}')"
   ]
  },
  {
   "cell_type": "code",
   "execution_count": 195,
   "metadata": {},
   "outputs": [
    {
     "data": {
      "text/html": [
       "<style>#sk-container-id-17 {color: black;}#sk-container-id-17 pre{padding: 0;}#sk-container-id-17 div.sk-toggleable {background-color: white;}#sk-container-id-17 label.sk-toggleable__label {cursor: pointer;display: block;width: 100%;margin-bottom: 0;padding: 0.3em;box-sizing: border-box;text-align: center;}#sk-container-id-17 label.sk-toggleable__label-arrow:before {content: \"▸\";float: left;margin-right: 0.25em;color: #696969;}#sk-container-id-17 label.sk-toggleable__label-arrow:hover:before {color: black;}#sk-container-id-17 div.sk-estimator:hover label.sk-toggleable__label-arrow:before {color: black;}#sk-container-id-17 div.sk-toggleable__content {max-height: 0;max-width: 0;overflow: hidden;text-align: left;background-color: #f0f8ff;}#sk-container-id-17 div.sk-toggleable__content pre {margin: 0.2em;color: black;border-radius: 0.25em;background-color: #f0f8ff;}#sk-container-id-17 input.sk-toggleable__control:checked~div.sk-toggleable__content {max-height: 200px;max-width: 100%;overflow: auto;}#sk-container-id-17 input.sk-toggleable__control:checked~label.sk-toggleable__label-arrow:before {content: \"▾\";}#sk-container-id-17 div.sk-estimator input.sk-toggleable__control:checked~label.sk-toggleable__label {background-color: #d4ebff;}#sk-container-id-17 div.sk-label input.sk-toggleable__control:checked~label.sk-toggleable__label {background-color: #d4ebff;}#sk-container-id-17 input.sk-hidden--visually {border: 0;clip: rect(1px 1px 1px 1px);clip: rect(1px, 1px, 1px, 1px);height: 1px;margin: -1px;overflow: hidden;padding: 0;position: absolute;width: 1px;}#sk-container-id-17 div.sk-estimator {font-family: monospace;background-color: #f0f8ff;border: 1px dotted black;border-radius: 0.25em;box-sizing: border-box;margin-bottom: 0.5em;}#sk-container-id-17 div.sk-estimator:hover {background-color: #d4ebff;}#sk-container-id-17 div.sk-parallel-item::after {content: \"\";width: 100%;border-bottom: 1px solid gray;flex-grow: 1;}#sk-container-id-17 div.sk-label:hover label.sk-toggleable__label {background-color: #d4ebff;}#sk-container-id-17 div.sk-serial::before {content: \"\";position: absolute;border-left: 1px solid gray;box-sizing: border-box;top: 0;bottom: 0;left: 50%;z-index: 0;}#sk-container-id-17 div.sk-serial {display: flex;flex-direction: column;align-items: center;background-color: white;padding-right: 0.2em;padding-left: 0.2em;position: relative;}#sk-container-id-17 div.sk-item {position: relative;z-index: 1;}#sk-container-id-17 div.sk-parallel {display: flex;align-items: stretch;justify-content: center;background-color: white;position: relative;}#sk-container-id-17 div.sk-item::before, #sk-container-id-17 div.sk-parallel-item::before {content: \"\";position: absolute;border-left: 1px solid gray;box-sizing: border-box;top: 0;bottom: 0;left: 50%;z-index: -1;}#sk-container-id-17 div.sk-parallel-item {display: flex;flex-direction: column;z-index: 1;position: relative;background-color: white;}#sk-container-id-17 div.sk-parallel-item:first-child::after {align-self: flex-end;width: 50%;}#sk-container-id-17 div.sk-parallel-item:last-child::after {align-self: flex-start;width: 50%;}#sk-container-id-17 div.sk-parallel-item:only-child::after {width: 0;}#sk-container-id-17 div.sk-dashed-wrapped {border: 1px dashed gray;margin: 0 0.4em 0.5em 0.4em;box-sizing: border-box;padding-bottom: 0.4em;background-color: white;}#sk-container-id-17 div.sk-label label {font-family: monospace;font-weight: bold;display: inline-block;line-height: 1.2em;}#sk-container-id-17 div.sk-label-container {text-align: center;}#sk-container-id-17 div.sk-container {/* jupyter's `normalize.less` sets `[hidden] { display: none; }` but bootstrap.min.css set `[hidden] { display: none !important; }` so we also need the `!important` here to be able to override the default hidden behavior on the sphinx rendered scikit-learn.org. See: https://github.com/scikit-learn/scikit-learn/issues/21755 */display: inline-block !important;position: relative;}#sk-container-id-17 div.sk-text-repr-fallback {display: none;}</style><div id=\"sk-container-id-17\" class=\"sk-top-container\"><div class=\"sk-text-repr-fallback\"><pre>RandomForestRegressor(n_estimators=110, random_state=42)</pre><b>In a Jupyter environment, please rerun this cell to show the HTML representation or trust the notebook. <br />On GitHub, the HTML representation is unable to render, please try loading this page with nbviewer.org.</b></div><div class=\"sk-container\" hidden><div class=\"sk-item\"><div class=\"sk-estimator sk-toggleable\"><input class=\"sk-toggleable__control sk-hidden--visually\" id=\"sk-estimator-id-17\" type=\"checkbox\" checked><label for=\"sk-estimator-id-17\" class=\"sk-toggleable__label sk-toggleable__label-arrow\">RandomForestRegressor</label><div class=\"sk-toggleable__content\"><pre>RandomForestRegressor(n_estimators=110, random_state=42)</pre></div></div></div></div></div>"
      ],
      "text/plain": [
       "RandomForestRegressor(n_estimators=110, random_state=42)"
      ]
     },
     "execution_count": 195,
     "metadata": {},
     "output_type": "execute_result"
    }
   ],
   "source": [
    "# Buat dan latih model Random Forest Regressor dengan n_estimators 110\n",
    "model1 = RandomForestRegressor(n_estimators=110, random_state=42)\n",
    "model1.fit(X_train, y_train)"
   ]
  },
  {
   "cell_type": "code",
   "execution_count": 196,
   "metadata": {},
   "outputs": [
    {
     "name": "stdout",
     "output_type": "stream",
     "text": [
      "Mean Squared Error: 3589174634000.679\n",
      "Mean Absolute Error: 1326173.1074642579\n",
      "R-squared: 0.5159375403570712\n"
     ]
    }
   ],
   "source": [
    "# Evaluasi performa model pada set pengujian\n",
    "#predict model dengan model1\n",
    "y_pred = model1.predict(X_test)\n",
    "#hitung mse, r2, dan mae\n",
    "mse = mean_squared_error(y_test, y_pred)\n",
    "r2 = r2_score(y_test, y_pred)\n",
    "mae = mean_absolute_error(y_test, y_pred)\n",
    "print(f'Mean Squared Error: {mse}')\n",
    "print(f'Mean Absolute Error: {mae}')\n",
    "print(f'R-squared: {r2}')"
   ]
  },
  {
   "cell_type": "markdown",
   "metadata": {},
   "source": [
    "R-squared, juga dikenal sebagai coefficient of determination, memberikan gambaran seberapa baik model regresi sesuai dengan data yang diobservasi. R-squared berkisar antara 0 dan 1, di mana:\n",
    "\n",
    "R-squared = 1: Model sepenuhnya menjelaskan variasi dalam data.\n",
    "R-squared = 0: Model tidak menjelaskan variasi dalam data sama sekali.\n",
    "Dalam konteks R-squared:\n",
    "\n",
    "0.7-1.0: Umumnya dianggap baik. Model secara efektif menjelaskan variasi dalam data.\n",
    "0.5-0.7: Dapat diterima. Model memiliki kemampuan yang baik dalam menjelaskan variasi dalam data.\n",
    "0.3-0.5: Rendah. Model mungkin memiliki beberapa nilai prediktif, tetapi masih banyak variasi yang tidak dijelaskan.\n",
    "0-0.3: Sangat rendah. Model tidak efektif dalam menjelaskan variasi dalam data."
   ]
  },
  {
   "cell_type": "markdown",
   "metadata": {},
   "source": [
    "Histogram Residual adalah selisih antara nilai aktual dan prediksi.\n",
    "Dalam konteks prediksi model, histogram residual yang mendekat ke 0 dan memiliki frekuensi yang tinggi di sekitar nilai 0 adalah tanda yang baik. Ini menunjukkan bahwa model Anda memiliki kinerja yang baik dalam memprediksi data dan memiliki sedikit kesalahan yang signifikan."
   ]
  },
  {
   "cell_type": "code",
   "execution_count": 197,
   "metadata": {},
   "outputs": [
    {
     "data": {
      "image/png": "[encoded data removed]",
      "text/plain": [
       "<Figure size 640x480 with 1 Axes>"
      ]
     },
     "metadata": {},
     "output_type": "display_data"
    }
   ],
   "source": [
    "#Histogram Residual:\n",
    "\n",
    "residual = y_test - y_pred\n",
    "plt.hist(residual, bins=20, edgecolor='black')\n",
    "plt.xlabel('Residual (Subtotal Asli - Prediksi)')\n",
    "plt.ylabel('Frekuensi')\n",
    "plt.title('Histogram Residual pada Set Pengujian')\n",
    "plt.show()\n"
   ]
  },
  {
   "cell_type": "markdown",
   "metadata": {},
   "source": [
    "DATA BARU UNTUK PREDIKSI\n",
    "Membuat 7 hari kedepan untuk prediksi setiap shift"
   ]
  },
  {
   "cell_type": "code",
   "execution_count": 198,
   "metadata": {},
   "outputs": [],
   "source": [
    "hari = 7\n",
    "new_data = []\n",
    "# Looping untuk append new_data, menambah data baru\n",
    "for day in range(1, hari + 1):\n",
    "    new_data.append((1, day))\n",
    "    new_data.append((2, day))\n",
    "# Buat ke bentuk dataframe\n",
    "data_baru = pd.DataFrame(new_data, columns=['Shift', 'Hari'])\n"
   ]
  },
  {
   "cell_type": "code",
   "execution_count": 199,
   "metadata": {},
   "outputs": [
    {
     "data": {
      "text/html": [
       "<div>\n",
       "<style scoped>\n",
       "    .dataframe tbody tr th:only-of-type {\n",
       "        vertical-align: middle;\n",
       "    }\n",
       "\n",
       "    .dataframe tbody tr th {\n",
       "        vertical-align: top;\n",
       "    }\n",
       "\n",
       "    .dataframe thead th {\n",
       "        text-align: right;\n",
       "    }\n",
       "</style>\n",
       "<table border=\"1\" class=\"dataframe\">\n",
       "  <thead>\n",
       "    <tr style=\"text-align: right;\">\n",
       "      <th></th>\n",
       "      <th>Shift</th>\n",
       "      <th>Hari</th>\n",
       "    </tr>\n",
       "  </thead>\n",
       "  <tbody>\n",
       "    <tr>\n",
       "      <th>0</th>\n",
       "      <td>1</td>\n",
       "      <td>1</td>\n",
       "    </tr>\n",
       "    <tr>\n",
       "      <th>1</th>\n",
       "      <td>2</td>\n",
       "      <td>1</td>\n",
       "    </tr>\n",
       "    <tr>\n",
       "      <th>2</th>\n",
       "      <td>1</td>\n",
       "      <td>2</td>\n",
       "    </tr>\n",
       "    <tr>\n",
       "      <th>3</th>\n",
       "      <td>2</td>\n",
       "      <td>2</td>\n",
       "    </tr>\n",
       "    <tr>\n",
       "      <th>4</th>\n",
       "      <td>1</td>\n",
       "      <td>3</td>\n",
       "    </tr>\n",
       "    <tr>\n",
       "      <th>5</th>\n",
       "      <td>2</td>\n",
       "      <td>3</td>\n",
       "    </tr>\n",
       "    <tr>\n",
       "      <th>6</th>\n",
       "      <td>1</td>\n",
       "      <td>4</td>\n",
       "    </tr>\n",
       "    <tr>\n",
       "      <th>7</th>\n",
       "      <td>2</td>\n",
       "      <td>4</td>\n",
       "    </tr>\n",
       "    <tr>\n",
       "      <th>8</th>\n",
       "      <td>1</td>\n",
       "      <td>5</td>\n",
       "    </tr>\n",
       "    <tr>\n",
       "      <th>9</th>\n",
       "      <td>2</td>\n",
       "      <td>5</td>\n",
       "    </tr>\n",
       "    <tr>\n",
       "      <th>10</th>\n",
       "      <td>1</td>\n",
       "      <td>6</td>\n",
       "    </tr>\n",
       "    <tr>\n",
       "      <th>11</th>\n",
       "      <td>2</td>\n",
       "      <td>6</td>\n",
       "    </tr>\n",
       "    <tr>\n",
       "      <th>12</th>\n",
       "      <td>1</td>\n",
       "      <td>7</td>\n",
       "    </tr>\n",
       "    <tr>\n",
       "      <th>13</th>\n",
       "      <td>2</td>\n",
       "      <td>7</td>\n",
       "    </tr>\n",
       "  </tbody>\n",
       "</table>\n",
       "</div>"
      ],
      "text/plain": [
       "    Shift  Hari\n",
       "0       1     1\n",
       "1       2     1\n",
       "2       1     2\n",
       "3       2     2\n",
       "4       1     3\n",
       "5       2     3\n",
       "6       1     4\n",
       "7       2     4\n",
       "8       1     5\n",
       "9       2     5\n",
       "10      1     6\n",
       "11      2     6\n",
       "12      1     7\n",
       "13      2     7"
      ]
     },
     "execution_count": 199,
     "metadata": {},
     "output_type": "execute_result"
    }
   ],
   "source": [
    "data_baru"
   ]
  },
  {
   "cell_type": "markdown",
   "metadata": {},
   "source": [
    "Predict new data"
   ]
  },
  {
   "cell_type": "code",
   "execution_count": 200,
   "metadata": {},
   "outputs": [],
   "source": [
    "#prediksi data dengan model1\n",
    "y_pred2=model1.predict(data_baru)"
   ]
  },
  {
   "cell_type": "code",
   "execution_count": 201,
   "metadata": {},
   "outputs": [],
   "source": [
    "#memasukan hasil prediksi ke df\n",
    "data_baru['Prediksi']=y_pred2"
   ]
  },
  {
   "cell_type": "code",
   "execution_count": 202,
   "metadata": {},
   "outputs": [
    {
     "data": {
      "text/html": [
       "<div>\n",
       "<style scoped>\n",
       "    .dataframe tbody tr th:only-of-type {\n",
       "        vertical-align: middle;\n",
       "    }\n",
       "\n",
       "    .dataframe tbody tr th {\n",
       "        vertical-align: top;\n",
       "    }\n",
       "\n",
       "    .dataframe thead th {\n",
       "        text-align: right;\n",
       "    }\n",
       "</style>\n",
       "<table border=\"1\" class=\"dataframe\">\n",
       "  <thead>\n",
       "    <tr style=\"text-align: right;\">\n",
       "      <th></th>\n",
       "      <th>Shift</th>\n",
       "      <th>Hari</th>\n",
       "      <th>Prediksi</th>\n",
       "    </tr>\n",
       "  </thead>\n",
       "  <tbody>\n",
       "    <tr>\n",
       "      <th>0</th>\n",
       "      <td>1</td>\n",
       "      <td>1</td>\n",
       "      <td>3.043357e+06</td>\n",
       "    </tr>\n",
       "    <tr>\n",
       "      <th>1</th>\n",
       "      <td>2</td>\n",
       "      <td>1</td>\n",
       "      <td>6.085211e+06</td>\n",
       "    </tr>\n",
       "    <tr>\n",
       "      <th>2</th>\n",
       "      <td>1</td>\n",
       "      <td>2</td>\n",
       "      <td>3.240751e+06</td>\n",
       "    </tr>\n",
       "    <tr>\n",
       "      <th>3</th>\n",
       "      <td>2</td>\n",
       "      <td>2</td>\n",
       "      <td>5.979769e+06</td>\n",
       "    </tr>\n",
       "    <tr>\n",
       "      <th>4</th>\n",
       "      <td>1</td>\n",
       "      <td>3</td>\n",
       "      <td>3.263139e+06</td>\n",
       "    </tr>\n",
       "    <tr>\n",
       "      <th>5</th>\n",
       "      <td>2</td>\n",
       "      <td>3</td>\n",
       "      <td>6.735694e+06</td>\n",
       "    </tr>\n",
       "    <tr>\n",
       "      <th>6</th>\n",
       "      <td>1</td>\n",
       "      <td>4</td>\n",
       "      <td>3.021983e+06</td>\n",
       "    </tr>\n",
       "    <tr>\n",
       "      <th>7</th>\n",
       "      <td>2</td>\n",
       "      <td>4</td>\n",
       "      <td>7.024170e+06</td>\n",
       "    </tr>\n",
       "    <tr>\n",
       "      <th>8</th>\n",
       "      <td>1</td>\n",
       "      <td>5</td>\n",
       "      <td>3.592588e+06</td>\n",
       "    </tr>\n",
       "    <tr>\n",
       "      <th>9</th>\n",
       "      <td>2</td>\n",
       "      <td>5</td>\n",
       "      <td>8.060434e+06</td>\n",
       "    </tr>\n",
       "    <tr>\n",
       "      <th>10</th>\n",
       "      <td>1</td>\n",
       "      <td>6</td>\n",
       "      <td>3.842796e+06</td>\n",
       "    </tr>\n",
       "    <tr>\n",
       "      <th>11</th>\n",
       "      <td>2</td>\n",
       "      <td>6</td>\n",
       "      <td>9.198102e+06</td>\n",
       "    </tr>\n",
       "    <tr>\n",
       "      <th>12</th>\n",
       "      <td>1</td>\n",
       "      <td>7</td>\n",
       "      <td>3.842796e+06</td>\n",
       "    </tr>\n",
       "    <tr>\n",
       "      <th>13</th>\n",
       "      <td>2</td>\n",
       "      <td>7</td>\n",
       "      <td>9.198102e+06</td>\n",
       "    </tr>\n",
       "  </tbody>\n",
       "</table>\n",
       "</div>"
      ],
      "text/plain": [
       "    Shift  Hari      Prediksi\n",
       "0       1     1  3.043357e+06\n",
       "1       2     1  6.085211e+06\n",
       "2       1     2  3.240751e+06\n",
       "3       2     2  5.979769e+06\n",
       "4       1     3  3.263139e+06\n",
       "5       2     3  6.735694e+06\n",
       "6       1     4  3.021983e+06\n",
       "7       2     4  7.024170e+06\n",
       "8       1     5  3.592588e+06\n",
       "9       2     5  8.060434e+06\n",
       "10      1     6  3.842796e+06\n",
       "11      2     6  9.198102e+06\n",
       "12      1     7  3.842796e+06\n",
       "13      2     7  9.198102e+06"
      ]
     },
     "execution_count": 202,
     "metadata": {},
     "output_type": "execute_result"
    }
   ],
   "source": [
    "#menampilkan data\n",
    "data_baru"
   ]
  }
 ],
 "metadata": {
  "kernelspec": {
   "display_name": "Python 3",
   "language": "python",
   "name": "python3"
  },
  "language_info": {
   "codemirror_mode": {
    "name": "ipython",
    "version": 3
   },
   "file_extension": ".py",
   "mimetype": "text/x-python",
   "name": "python",
   "nbconvert_exporter": "python",
   "pygments_lexer": "ipython3",
   "version": "3.9.7"
  },
  "orig_nbformat": 4
 },
 "nbformat": 4,
 "nbformat_minor": 2
}
