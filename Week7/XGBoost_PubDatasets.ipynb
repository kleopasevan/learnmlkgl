{
 "cells": [
  {
   "cell_type": "markdown",
   "metadata": {},
   "source": [
    "Evan-1103204160"
   ]
  },
  {
   "cell_type": "code",
   "execution_count": 1,
   "metadata": {},
   "outputs": [],
   "source": [
    "import pandas as pd\n",
    "#library pandas untuk mengatur data\n",
    "import matplotlib.pyplot as plt\n",
    "#library matplotlib plot untuk melakukan visualisasi\n",
    "import seaborn as sns\n",
    "#library seaborn untuk visualisasi\n",
    "from ipywidgets import interact\n",
    "import ipywidgets as widgets\n",
    "#ipywidgets untuk membuat interactive plot"
   ]
  },
  {
   "cell_type": "code",
   "execution_count": 2,
   "metadata": {},
   "outputs": [],
   "source": [
    "#reading dataset\n",
    "file_path = 'datasets/Restaurant Sales Datasets.xlsx'\n",
    "df = pd.read_excel(file_path)"
   ]
  },
  {
   "cell_type": "code",
   "execution_count": 3,
   "metadata": {},
   "outputs": [
    {
     "name": "stderr",
     "output_type": "stream",
     "text": [
      "C:\\Users\\kleop\\AppData\\Local\\Temp\\ipykernel_11188\\4030270761.py:2: UserWarning: Parsing dates in %d-%m-%Y format when dayfirst=False (the default) was specified. Pass `dayfirst=True` or specify a format to silence this warning.\n",
      "  df['Tanggal'] = pd.to_datetime(df['Tanggal'])\n"
     ]
    }
   ],
   "source": [
    "# Konversi kolom Tanggal ke format DateTime\n",
    "df['Tanggal'] = pd.to_datetime(df['Tanggal'])\n",
    "# Konversi kolom Jam ke format DateTime (Hanya jam dan menit)\n",
    "df['Jam'] = pd.to_datetime(df['Jam'], format='%H:%M:%S').dt.time\n",
    "# Gabungkan kolom 'Tanggal' dan 'Jam' ke dalam satu kolom DateTime\n",
    "df['Tanggal'] = pd.to_datetime(df['Tanggal'].astype(str) + ' ' + df['Jam'].astype(str))\n",
    "# Definisikan fungsi untuk mendapatkan shift\n",
    "def get_shift(time):\n",
    "    if 8 <= time.hour < 14:\n",
    "        return 1\n",
    "    elif 14 <= time.hour < 22:\n",
    "        return 2\n",
    "    else:\n",
    "        return 0  # Shift 0 untuk transaksi di luar jam kerja\n",
    "# Terapkan fungsi shift ke DataFrame\n",
    "df['Shift'] = df['Tanggal'].apply(get_shift)\n",
    "# Buat DataFrame baru dengan data transaksi setiap shift\n",
    "shift_data = df.groupby(['Tanggal', 'Shift']).agg({'No. Struk': 'nunique', 'Subtotal': 'sum'}).reset_index()\n",
    "shift_data.columns = ['Tanggal', 'Shift', 'Jumlah Transaksi', 'Subtotal']"
   ]
  },
  {
   "cell_type": "code",
   "execution_count": 4,
   "metadata": {},
   "outputs": [],
   "source": [
    "# Tanggal hanya mengandung tanggal\n",
    "shift_data[\"Tanggal\"] = pd.to_datetime(shift_data[\"Tanggal\"])\n",
    "shift_data[\"Tanggal\"] = shift_data[\"Tanggal\"].dt.date\n",
    "# Sum \"Subtotal\" berdasarkan \"Tanggal\" dan \"Shift\"\n",
    "shift_data = shift_data.groupby([\"Tanggal\", \"Shift\"]).agg({\"Subtotal\": \"sum\", \"Jumlah Transaksi\": \"sum\"}).reset_index()\n",
    "#Konversi ke datetime\n",
    "shift_data[\"Tanggal\"] = pd.to_datetime(shift_data[\"Tanggal\"])\n",
    "#menambahkan kolom hari\n",
    "shift_data[\"Hari\"] = shift_data['Tanggal'].dt.strftime('%A')\n",
    "# Tanggal hanya mengandung tanggal\n",
    "shift_data[\"Tanggal\"] = shift_data[\"Tanggal\"].dt.date"
   ]
  },
  {
   "cell_type": "code",
   "execution_count": 5,
   "metadata": {},
   "outputs": [
    {
     "data": {
      "text/html": [
       "<div>\n",
       "<style scoped>\n",
       "    .dataframe tbody tr th:only-of-type {\n",
       "        vertical-align: middle;\n",
       "    }\n",
       "\n",
       "    .dataframe tbody tr th {\n",
       "        vertical-align: top;\n",
       "    }\n",
       "\n",
       "    .dataframe thead th {\n",
       "        text-align: right;\n",
       "    }\n",
       "</style>\n",
       "<table border=\"1\" class=\"dataframe\">\n",
       "  <thead>\n",
       "    <tr style=\"text-align: right;\">\n",
       "      <th></th>\n",
       "      <th>Shift</th>\n",
       "      <th>Subtotal</th>\n",
       "      <th>Jumlah Transaksi</th>\n",
       "    </tr>\n",
       "  </thead>\n",
       "  <tbody>\n",
       "    <tr>\n",
       "      <th>count</th>\n",
       "      <td>1432.000000</td>\n",
       "      <td>1.432000e+03</td>\n",
       "      <td>1432.000000</td>\n",
       "    </tr>\n",
       "    <tr>\n",
       "      <th>mean</th>\n",
       "      <td>1.500000</td>\n",
       "      <td>5.169032e+06</td>\n",
       "      <td>28.749302</td>\n",
       "    </tr>\n",
       "    <tr>\n",
       "      <th>std</th>\n",
       "      <td>0.500175</td>\n",
       "      <td>2.794747e+06</td>\n",
       "      <td>13.477081</td>\n",
       "    </tr>\n",
       "    <tr>\n",
       "      <th>min</th>\n",
       "      <td>1.000000</td>\n",
       "      <td>3.070000e+05</td>\n",
       "      <td>2.000000</td>\n",
       "    </tr>\n",
       "    <tr>\n",
       "      <th>25%</th>\n",
       "      <td>1.000000</td>\n",
       "      <td>3.090750e+06</td>\n",
       "      <td>18.000000</td>\n",
       "    </tr>\n",
       "    <tr>\n",
       "      <th>50%</th>\n",
       "      <td>1.500000</td>\n",
       "      <td>4.599250e+06</td>\n",
       "      <td>26.000000</td>\n",
       "    </tr>\n",
       "    <tr>\n",
       "      <th>75%</th>\n",
       "      <td>2.000000</td>\n",
       "      <td>6.865250e+06</td>\n",
       "      <td>38.000000</td>\n",
       "    </tr>\n",
       "    <tr>\n",
       "      <th>max</th>\n",
       "      <td>2.000000</td>\n",
       "      <td>2.457000e+07</td>\n",
       "      <td>88.000000</td>\n",
       "    </tr>\n",
       "  </tbody>\n",
       "</table>\n",
       "</div>"
      ],
      "text/plain": [
       "             Shift      Subtotal  Jumlah Transaksi\n",
       "count  1432.000000  1.432000e+03       1432.000000\n",
       "mean      1.500000  5.169032e+06         28.749302\n",
       "std       0.500175  2.794747e+06         13.477081\n",
       "min       1.000000  3.070000e+05          2.000000\n",
       "25%       1.000000  3.090750e+06         18.000000\n",
       "50%       1.500000  4.599250e+06         26.000000\n",
       "75%       2.000000  6.865250e+06         38.000000\n",
       "max       2.000000  2.457000e+07         88.000000"
      ]
     },
     "execution_count": 5,
     "metadata": {},
     "output_type": "execute_result"
    }
   ],
   "source": [
    "#mengurangi data kurang\n",
    "shift_data = shift_data[shift_data['Jumlah Transaksi'] > 0]\n",
    "shift_data = shift_data[shift_data['Shift'] > 0]\n",
    "shift_data.describe()"
   ]
  },
  {
   "cell_type": "code",
   "execution_count": 8,
   "metadata": {},
   "outputs": [],
   "source": [
    "shift_data['Tanggal'] = pd.to_datetime(shift_data['Tanggal'])\n",
    "# Menggunakan Tanggal untuk mengganti kolom hari menjadi angka\n",
    "shift_data['Hari'] = shift_data['Tanggal'].dt.dayofweek"
   ]
  },
  {
   "cell_type": "code",
   "execution_count": 9,
   "metadata": {},
   "outputs": [],
   "source": [
    "from sklearn.model_selection import train_test_split\n",
    "\n",
    "# Select subset of predictors\n",
    "cols_to_use = ['Shift','Hari']\n",
    "X = shift_data[cols_to_use]\n",
    "# Select target\n",
    "y = shift_data.Subtotal\n",
    "\n",
    "# Separate shift_data into training and validation sets\n",
    "X_train, X_valid, y_train, y_valid = train_test_split(X, y)"
   ]
  },
  {
   "cell_type": "code",
   "execution_count": 10,
   "metadata": {},
   "outputs": [
    {
     "data": {
      "text/html": [
       "<style>#sk-container-id-1 {color: black;}#sk-container-id-1 pre{padding: 0;}#sk-container-id-1 div.sk-toggleable {background-color: white;}#sk-container-id-1 label.sk-toggleable__label {cursor: pointer;display: block;width: 100%;margin-bottom: 0;padding: 0.3em;box-sizing: border-box;text-align: center;}#sk-container-id-1 label.sk-toggleable__label-arrow:before {content: \"▸\";float: left;margin-right: 0.25em;color: #696969;}#sk-container-id-1 label.sk-toggleable__label-arrow:hover:before {color: black;}#sk-container-id-1 div.sk-estimator:hover label.sk-toggleable__label-arrow:before {color: black;}#sk-container-id-1 div.sk-toggleable__content {max-height: 0;max-width: 0;overflow: hidden;text-align: left;background-color: #f0f8ff;}#sk-container-id-1 div.sk-toggleable__content pre {margin: 0.2em;color: black;border-radius: 0.25em;background-color: #f0f8ff;}#sk-container-id-1 input.sk-toggleable__control:checked~div.sk-toggleable__content {max-height: 200px;max-width: 100%;overflow: auto;}#sk-container-id-1 input.sk-toggleable__control:checked~label.sk-toggleable__label-arrow:before {content: \"▾\";}#sk-container-id-1 div.sk-estimator input.sk-toggleable__control:checked~label.sk-toggleable__label {background-color: #d4ebff;}#sk-container-id-1 div.sk-label input.sk-toggleable__control:checked~label.sk-toggleable__label {background-color: #d4ebff;}#sk-container-id-1 input.sk-hidden--visually {border: 0;clip: rect(1px 1px 1px 1px);clip: rect(1px, 1px, 1px, 1px);height: 1px;margin: -1px;overflow: hidden;padding: 0;position: absolute;width: 1px;}#sk-container-id-1 div.sk-estimator {font-family: monospace;background-color: #f0f8ff;border: 1px dotted black;border-radius: 0.25em;box-sizing: border-box;margin-bottom: 0.5em;}#sk-container-id-1 div.sk-estimator:hover {background-color: #d4ebff;}#sk-container-id-1 div.sk-parallel-item::after {content: \"\";width: 100%;border-bottom: 1px solid gray;flex-grow: 1;}#sk-container-id-1 div.sk-label:hover label.sk-toggleable__label {background-color: #d4ebff;}#sk-container-id-1 div.sk-serial::before {content: \"\";position: absolute;border-left: 1px solid gray;box-sizing: border-box;top: 0;bottom: 0;left: 50%;z-index: 0;}#sk-container-id-1 div.sk-serial {display: flex;flex-direction: column;align-items: center;background-color: white;padding-right: 0.2em;padding-left: 0.2em;position: relative;}#sk-container-id-1 div.sk-item {position: relative;z-index: 1;}#sk-container-id-1 div.sk-parallel {display: flex;align-items: stretch;justify-content: center;background-color: white;position: relative;}#sk-container-id-1 div.sk-item::before, #sk-container-id-1 div.sk-parallel-item::before {content: \"\";position: absolute;border-left: 1px solid gray;box-sizing: border-box;top: 0;bottom: 0;left: 50%;z-index: -1;}#sk-container-id-1 div.sk-parallel-item {display: flex;flex-direction: column;z-index: 1;position: relative;background-color: white;}#sk-container-id-1 div.sk-parallel-item:first-child::after {align-self: flex-end;width: 50%;}#sk-container-id-1 div.sk-parallel-item:last-child::after {align-self: flex-start;width: 50%;}#sk-container-id-1 div.sk-parallel-item:only-child::after {width: 0;}#sk-container-id-1 div.sk-dashed-wrapped {border: 1px dashed gray;margin: 0 0.4em 0.5em 0.4em;box-sizing: border-box;padding-bottom: 0.4em;background-color: white;}#sk-container-id-1 div.sk-label label {font-family: monospace;font-weight: bold;display: inline-block;line-height: 1.2em;}#sk-container-id-1 div.sk-label-container {text-align: center;}#sk-container-id-1 div.sk-container {/* jupyter's `normalize.less` sets `[hidden] { display: none; }` but bootstrap.min.css set `[hidden] { display: none !important; }` so we also need the `!important` here to be able to override the default hidden behavior on the sphinx rendered scikit-learn.org. See: https://github.com/scikit-learn/scikit-learn/issues/21755 */display: inline-block !important;position: relative;}#sk-container-id-1 div.sk-text-repr-fallback {display: none;}</style><div id=\"sk-container-id-1\" class=\"sk-top-container\"><div class=\"sk-text-repr-fallback\"><pre>XGBRegressor(base_score=None, booster=None, callbacks=None,\n",
       "             colsample_bylevel=None, colsample_bynode=None,\n",
       "             colsample_bytree=None, device=None, early_stopping_rounds=None,\n",
       "             enable_categorical=False, eval_metric=None, feature_types=None,\n",
       "             gamma=None, grow_policy=None, importance_type=None,\n",
       "             interaction_constraints=None, learning_rate=None, max_bin=None,\n",
       "             max_cat_threshold=None, max_cat_to_onehot=None,\n",
       "             max_delta_step=None, max_depth=None, max_leaves=None,\n",
       "             min_child_weight=None, missing=nan, monotone_constraints=None,\n",
       "             multi_strategy=None, n_estimators=None, n_jobs=None,\n",
       "             num_parallel_tree=None, random_state=None, ...)</pre><b>In a Jupyter environment, please rerun this cell to show the HTML representation or trust the notebook. <br />On GitHub, the HTML representation is unable to render, please try loading this page with nbviewer.org.</b></div><div class=\"sk-container\" hidden><div class=\"sk-item\"><div class=\"sk-estimator sk-toggleable\"><input class=\"sk-toggleable__control sk-hidden--visually\" id=\"sk-estimator-id-1\" type=\"checkbox\" checked><label for=\"sk-estimator-id-1\" class=\"sk-toggleable__label sk-toggleable__label-arrow\">XGBRegressor</label><div class=\"sk-toggleable__content\"><pre>XGBRegressor(base_score=None, booster=None, callbacks=None,\n",
       "             colsample_bylevel=None, colsample_bynode=None,\n",
       "             colsample_bytree=None, device=None, early_stopping_rounds=None,\n",
       "             enable_categorical=False, eval_metric=None, feature_types=None,\n",
       "             gamma=None, grow_policy=None, importance_type=None,\n",
       "             interaction_constraints=None, learning_rate=None, max_bin=None,\n",
       "             max_cat_threshold=None, max_cat_to_onehot=None,\n",
       "             max_delta_step=None, max_depth=None, max_leaves=None,\n",
       "             min_child_weight=None, missing=nan, monotone_constraints=None,\n",
       "             multi_strategy=None, n_estimators=None, n_jobs=None,\n",
       "             num_parallel_tree=None, random_state=None, ...)</pre></div></div></div></div></div>"
      ],
      "text/plain": [
       "XGBRegressor(base_score=None, booster=None, callbacks=None,\n",
       "             colsample_bylevel=None, colsample_bynode=None,\n",
       "             colsample_bytree=None, device=None, early_stopping_rounds=None,\n",
       "             enable_categorical=False, eval_metric=None, feature_types=None,\n",
       "             gamma=None, grow_policy=None, importance_type=None,\n",
       "             interaction_constraints=None, learning_rate=None, max_bin=None,\n",
       "             max_cat_threshold=None, max_cat_to_onehot=None,\n",
       "             max_delta_step=None, max_depth=None, max_leaves=None,\n",
       "             min_child_weight=None, missing=nan, monotone_constraints=None,\n",
       "             multi_strategy=None, n_estimators=None, n_jobs=None,\n",
       "             num_parallel_tree=None, random_state=None, ...)"
      ]
     },
     "execution_count": 10,
     "metadata": {},
     "output_type": "execute_result"
    }
   ],
   "source": [
    "from xgboost import XGBRegressor\n",
    "my_model=XGBRegressor()\n",
    "my_model.fit(X_train, y_train)"
   ]
  },
  {
   "cell_type": "code",
   "execution_count": 11,
   "metadata": {},
   "outputs": [
    {
     "name": "stdout",
     "output_type": "stream",
     "text": [
      "Fitting 5 folds for each of 6 candidates, totalling 30 fits\n",
      "Hasil terbaik: {'n_estimators': 150}\n",
      "n_estimators = 150: MAE = 1347050.3066985437\n",
      "n_estimators = 200: MAE = 1347050.3066985437\n",
      "n_estimators = 250: MAE = 1347050.3066985437\n",
      "n_estimators = 300: MAE = 1347050.3066985437\n",
      "n_estimators = 400: MAE = 1347050.3066985437\n",
      "n_estimators = 1000: MAE = 1347050.3066985437\n",
      "MAE Scores: [1347050.3066985437, 1347050.3066985437, 1347050.3066985437, 1347050.3066985437, 1347050.3066985437, 1347050.3066985437]\n"
     ]
    }
   ],
   "source": [
    "from sklearn.model_selection import GridSearchCV, cross_val_score\n",
    "import numpy as np\n",
    "from sklearn.metrics import mean_absolute_error\n",
    "\n",
    "# Tentukan model XGBRegressor Anda dengan parameter default dan persiapkan grid parameter yang akan diuji.\n",
    "model = XGBRegressor()\n",
    "param_grid = {\n",
    "    'n_estimators': [150, 200, 250, 300, 400, 1000]  # Anda dapat menambahkan nilai n_estimators lainnya sesuai kebutuhan\n",
    "}\n",
    "\n",
    "# Buat objek GridSearchCV.\n",
    "grid_search = GridSearchCV(estimator=model, param_grid=param_grid, scoring='neg_mean_squared_error', cv=5, verbose=1)\n",
    "\n",
    "# Lakukan pencarian grid pada data latih.\n",
    "grid_search.fit(X_train, y_train)\n",
    "\n",
    "# Cek hasil pencarian grid.\n",
    "print(\"Hasil terbaik:\", grid_search.best_params_)\n",
    "\n",
    "# Gunakan nilai n_estimators terbaik ini untuk melatih model XGBRegressor Anda.\n",
    "best_n_estimators = grid_search.best_params_['n_estimators']\n",
    "my_model = XGBRegressor(n_estimators=best_n_estimators)\n",
    "my_model.fit(X_train, y_train)\n",
    "\n",
    "# Tampilkan nilai MAE untuk masing-masing nilai n_estimators.\n",
    "mae_scores = []\n",
    "\n",
    "for n_estimators in param_grid['n_estimators']:\n",
    "    model = XGBRegressor(n_estimators=n_estimators)\n",
    "    mae = -np.mean(cross_val_score(model, X_train, y_train, cv=5, scoring='neg_mean_absolute_error'))\n",
    "    mae_scores.append(mae)\n",
    "    print(f\"n_estimators = {n_estimators}: MAE = {mae}\")\n",
    "\n",
    "# Hasil MAE untuk setiap n_estimators\n",
    "print(\"MAE Scores:\", mae_scores)\n"
   ]
  }
 ],
 "metadata": {
  "kernelspec": {
   "display_name": ".venv",
   "language": "python",
   "name": "python3"
  },
  "language_info": {
   "codemirror_mode": {
    "name": "ipython",
    "version": 3
   },
   "file_extension": ".py",
   "mimetype": "text/x-python",
   "name": "python",
   "nbconvert_exporter": "python",
   "pygments_lexer": "ipython3",
   "version": "3.9.7"
  },
  "orig_nbformat": 4
 },
 "nbformat": 4,
 "nbformat_minor": 2
}
