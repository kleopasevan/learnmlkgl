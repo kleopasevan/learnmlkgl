{
  "nbformat": 4,
  "nbformat_minor": 0,
  "metadata": {
    "colab": {
      "provenance": []
    },
    "kernelspec": {
      "name": "python3",
      "display_name": "Python 3"
    },
    "language_info": {
      "name": "python"
    }
  },
  "cells": [
    {
      "cell_type": "markdown",
      "source": [
        "PERSIAPAN\n"
      ],
      "metadata": {
        "id": "FthZBY6SPYfK"
      }
    },
    {
      "cell_type": "code",
      "execution_count": 1,
      "metadata": {
        "colab": {
          "base_uri": "https://localhost:8080/"
        },
        "id": "vBFuURS2MEgr",
        "outputId": "a055686f-2116-40ea-f31f-04d0a8b8482d"
      },
      "outputs": [
        {
          "output_type": "stream",
          "name": "stdout",
          "text": [
            "jumlah baris 150\n"
          ]
        }
      ],
      "source": [
        "#Evan-1103204160\n",
        "from sklearn import datasets\n",
        "from sklearn.model_selection import train_test_split\n",
        "iris=datasets.load_iris()\n",
        "atribut = iris.data\n",
        "label=iris.target\n",
        "#check ds\n",
        "baris=len(atribut)\n",
        "print(\"jumlah baris\",baris)\n",
        "#spliting datasets\n",
        "X_train,X_test,y_train,y_test=train_test_split(atribut,label,test_size=0.2)"
      ]
    },
    {
      "cell_type": "markdown",
      "source": [
        "DECISION TREE WITHOUT DIMENSIONALITY REDUCTION"
      ],
      "metadata": {
        "id": "coKb7B73Pdg2"
      }
    },
    {
      "cell_type": "code",
      "source": [
        "from sklearn import tree\n",
        "decision_tree=tree.DecisionTreeClassifier()\n",
        "model_nodimensionalityred=decision_tree.fit(X_train,y_train)\n",
        "model_nodimensionalityred.score(X_test, y_test)"
      ],
      "metadata": {
        "colab": {
          "base_uri": "https://localhost:8080/"
        },
        "id": "BifPX5kdNAYk",
        "outputId": "035661e2-e3ce-4ce6-a343-b6b770df4a1a"
      },
      "execution_count": 6,
      "outputs": [
        {
          "output_type": "execute_result",
          "data": {
            "text/plain": [
              "1.0"
            ]
          },
          "metadata": {},
          "execution_count": 6
        }
      ]
    },
    {
      "cell_type": "markdown",
      "source": [
        "DECISION TREE WITH DIMENSIONALITY REDUCTION"
      ],
      "metadata": {
        "id": "BG8HUSItPiKU"
      }
    },
    {
      "cell_type": "code",
      "source": [
        "from sklearn.decomposition import PCA\n",
        "#membuat 4 principal component\n",
        "pca=PCA(n_components=4)\n",
        "#mengaplikasikan PCA pada dataset\n",
        "pca_attributes=pca.fit_transform(X_train)\n",
        "#melihat vvariance dari setiap atribut\n",
        "pca.explained_variance_ratio_"
      ],
      "metadata": {
        "colab": {
          "base_uri": "https://localhost:8080/"
        },
        "id": "5XK1724CPnDD",
        "outputId": "aee2244a-cb90-4488-b42a-35f6ed5ee408"
      },
      "execution_count": 3,
      "outputs": [
        {
          "output_type": "execute_result",
          "data": {
            "text/plain": [
              "array([0.92164392, 0.05523247, 0.01781598, 0.00530762])"
            ]
          },
          "metadata": {},
          "execution_count": 3
        }
      ]
    },
    {
      "cell_type": "code",
      "source": [
        "#2 principal component\n",
        "pca=PCA(n_components=2)\n",
        "X_train_pca=pca.fit_transform(X_train)\n",
        "X_test_pca=pca.fit_transform(X_test)"
      ],
      "metadata": {
        "id": "acai2nKNQYtT"
      },
      "execution_count": 4,
      "outputs": []
    },
    {
      "cell_type": "code",
      "source": [
        "#uji akurasi model dengan pca dim reduc\n",
        "model_dengan_PCA_2_components=decision_tree.fit(X_train_pca,y_train)\n",
        "model_dengan_PCA_2_components.score(X_test_pca, y_test)"
      ],
      "metadata": {
        "colab": {
          "base_uri": "https://localhost:8080/"
        },
        "id": "MIfnmc4QQvt0",
        "outputId": "deb08000-ba67-4771-8263-d7f596b73b60"
      },
      "execution_count": 7,
      "outputs": [
        {
          "output_type": "execute_result",
          "data": {
            "text/plain": [
              "0.7666666666666667"
            ]
          },
          "metadata": {},
          "execution_count": 7
        }
      ]
    }
  ]
}